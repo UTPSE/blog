{
 "cells": [
  {
   "cell_type": "markdown",
   "metadata": {},
   "source": [
    "# Goal of Week 1\n",
    "\n",
    "This week, we will:\n",
    "+ Spend a little bit of time getting farmiliarized with Python the language. What we think are the pros and cons with the language. \n",
    "+ Install Python. \n",
    "+ Learn some basic operators in Python.\n",
    "+ Learn about variables and the different types of data in Python (int, float, string, etc.). \n",
    "+ Learn about getting user's input using the input() function.\n",
    "+ Write our first if, else if, and else statements.\n",
    "\n",
    "# Note\n",
    "+ In this notebook, I will run the code cell-by-cell to show you the error and the result that Python gives out every time we run a snippet of code. However, you will most likely use a IDE (a.k.a Integrated Development Environment) like the default Python IDE, PyCharm, or something else, which is absolutely fine.\n",
    "\n",
    "# Let's get started!"
   ]
  },
  {
   "cell_type": "markdown",
   "metadata": {},
   "source": [
    "## 1. Install Python\n",
    "\n",
    "+ If you haven't had Python installed, head to this **[link]( https://www.python.org/downloads/)** and click **‘Download Python 3.5.2’**\n",
    "+ Install :)\n",
    "\n",
    "## 2. Open Python & Create Our Program\n",
    "\n",
    "To run Python, search your program for **IDLE**. Open that program.\n",
    "\n",
    "Now something like this will popup:\n",
    "\n",
    "That's a Python **shell**. You can play around with the console like assigning variables, adding numbers, using it as a calculator and it's pretty nice.\n",
    "\n",
    "However, typically we want to write something nicer so for our purposes, we will write Python scripts or programs. Let's do that.\n",
    "\n",
    "Choose **File -> New File**. Now another blank screen will pop up. Let's write our first simple program. Type . . .\n",
    "\n",
    "```python\n",
    "print(\"Hello World\")\n",
    "```\n",
    "\n",
    "Now go back to the navigation bar and click **Run**."
   ]
  },
  {
   "cell_type": "markdown",
   "metadata": {},
   "source": []
  }
 ],
 "metadata": {
  "kernelspec": {
   "display_name": "Python [Root]",
   "language": "python",
   "name": "Python [Root]"
  },
  "language_info": {
   "codemirror_mode": {
    "name": "ipython",
    "version": 3
   },
   "file_extension": ".py",
   "mimetype": "text/x-python",
   "name": "python",
   "nbconvert_exporter": "python",
   "pygments_lexer": "ipython3",
   "version": "3.5.2"
  }
 },
 "nbformat": 4,
 "nbformat_minor": 0
}
