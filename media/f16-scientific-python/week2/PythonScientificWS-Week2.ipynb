{
 "cells": [
  {
   "cell_type": "markdown",
   "metadata": {
    "collapsed": true
   },
   "source": [
    "## Download\n",
    "\n",
    "\n",
    "## Goal of Week 2\n",
    "\n",
    "This week we will:\n",
    "\n",
    "+ Take a look at **pandas**, an open source, BSD-licensed library providing **high-performance, easy-to-use data structures and data analysis** tools\n",
    "+ Load in Excel (.xls or .csv) files to use in Python\n",
    "    - Managing headers\n",
    "    - Read-in only certain columns\n",
    "+ Do some data manipulation:\n",
    "    - List the names of the columns\n",
    "    - Renaming columns\n",
    "    - Create a new column\n",
    "    - Doing math operations between two columns\n",
    "    - Filtering out data or a subset of data\n",
    "+ Do some plotting using Matplotlib, a very nice 2D plotting library in Python\n",
    "    - Plot a histogram\n",
    "    - Plot scatter plots\n",
    "    - Plot normal plots\n",
    "    - Modify the x-axis's title, y-axis's title, figure's title\n",
    "+ If we have time, we can go through a quick example to show how powerful pandas is when it renders tens of thousands of rows super quickly.\n",
    "\n",
    "## Note\n",
    "+ Remember to run each invidual cell you can hit Ctrl+Enter\n",
    "+ If you want to add a cell above or below, you can hit Esc + A or Esc + B. Or you can go to the toolbar at the top -> Insert -> Insert Cell Above/Insert Cell Below\n",
    "+ If you want to run all the cells altogether, go to the toolbar -> Cell -> Run All.\n",
    "+ In the case something catastrophic happens and everything explodes, keep calmn, go to the the toolbar -> Kernal -> Restart\n"
   ]
  },
  {
   "cell_type": "markdown",
   "metadata": {},
   "source": [
    "## Let's get started"
   ]
  },
  {
   "cell_type": "markdown",
   "metadata": {},
   "source": [
    "Before we start, let's first **import** the pandas package. The syntax is typically:\n",
    "\n",
    "```python\n",
    "import nameOfPackage\n",
    "```\n",
    "However, whenever you import a package and call a function from that package, you will have to write explicitly the name of the package. So I'm gonna rename the pandas package to something shorter, like pd.\n",
    "\n",
    "```python\n",
    "import pandas as pd\n",
    "```\n",
    "\n",
    "The \"as\" syntax will allow me to refer to the pandas package as pd from now on."
   ]
  },
  {
   "cell_type": "code",
   "execution_count": 44,
   "metadata": {
    "collapsed": true
   },
   "outputs": [],
   "source": [
    "import pandas as pd"
   ]
  },
  {
   "cell_type": "markdown",
   "metadata": {},
   "source": [
    "Let's read in some data. Our file is an .xls file and it has 2 sheets. I don't know how to do that, so I will google \"pandas read in excel file multiple sheets\" and see what happens.\n",
    "\n",
    "First _useful_ result came up was: http://stackoverflow.com/questions/26521266/using-pandas-to-pd-read-excel-for-multiple-worksheets-of-the-same-workbook so I'm gonna do what the upvoted did."
   ]
  },
  {
   "cell_type": "code",
   "execution_count": 45,
   "metadata": {
    "collapsed": false
   },
   "outputs": [],
   "source": [
    "xls = pd.ExcelFile(r'C:\\Users\\jenng\\Documents\\texaspse-blog\\media\\f16-scientific-python\\week2\\myExcelData.xls')\n",
    "temp_table = xls.parse('Temperature')\n",
    "liquid_flow_table = xls.parse('Liquid Flow')"
   ]
  },
  {
   "cell_type": "markdown",
   "metadata": {},
   "source": [
    "Let's take a look at the \"tables\" we read in. By the way, in Python pandas terms, the data structure of the data we read in is called a DataFrame. This is the reason why when you search for answers online, a lot of people will refer to their variable names as `df`."
   ]
  },
  {
   "cell_type": "code",
   "execution_count": 46,
   "metadata": {
    "collapsed": false
   },
   "outputs": [
    {
     "data": {
      "text/html": [
       "<div>\n",
       "<table border=\"1\" class=\"dataframe\">\n",
       "  <thead>\n",
       "    <tr style=\"text-align: right;\">\n",
       "      <th></th>\n",
       "      <th>K-type TC, °C</th>\n",
       "      <th>T-type TC, °C</th>\n",
       "    </tr>\n",
       "  </thead>\n",
       "  <tbody>\n",
       "    <tr>\n",
       "      <th>0</th>\n",
       "      <td>69.38</td>\n",
       "      <td>70.06</td>\n",
       "    </tr>\n",
       "    <tr>\n",
       "      <th>1</th>\n",
       "      <td>69.34</td>\n",
       "      <td>70.05</td>\n",
       "    </tr>\n",
       "    <tr>\n",
       "      <th>2</th>\n",
       "      <td>69.31</td>\n",
       "      <td>70.08</td>\n",
       "    </tr>\n",
       "    <tr>\n",
       "      <th>3</th>\n",
       "      <td>69.34</td>\n",
       "      <td>70.10</td>\n",
       "    </tr>\n",
       "    <tr>\n",
       "      <th>4</th>\n",
       "      <td>69.35</td>\n",
       "      <td>70.10</td>\n",
       "    </tr>\n",
       "    <tr>\n",
       "      <th>5</th>\n",
       "      <td>69.31</td>\n",
       "      <td>70.06</td>\n",
       "    </tr>\n",
       "    <tr>\n",
       "      <th>6</th>\n",
       "      <td>69.35</td>\n",
       "      <td>70.12</td>\n",
       "    </tr>\n",
       "    <tr>\n",
       "      <th>7</th>\n",
       "      <td>69.37</td>\n",
       "      <td>70.12</td>\n",
       "    </tr>\n",
       "    <tr>\n",
       "      <th>8</th>\n",
       "      <td>69.38</td>\n",
       "      <td>70.08</td>\n",
       "    </tr>\n",
       "    <tr>\n",
       "      <th>9</th>\n",
       "      <td>69.35</td>\n",
       "      <td>70.15</td>\n",
       "    </tr>\n",
       "    <tr>\n",
       "      <th>10</th>\n",
       "      <td>69.42</td>\n",
       "      <td>70.16</td>\n",
       "    </tr>\n",
       "    <tr>\n",
       "      <th>11</th>\n",
       "      <td>69.40</td>\n",
       "      <td>70.20</td>\n",
       "    </tr>\n",
       "    <tr>\n",
       "      <th>12</th>\n",
       "      <td>69.45</td>\n",
       "      <td>70.18</td>\n",
       "    </tr>\n",
       "    <tr>\n",
       "      <th>13</th>\n",
       "      <td>69.38</td>\n",
       "      <td>70.20</td>\n",
       "    </tr>\n",
       "    <tr>\n",
       "      <th>14</th>\n",
       "      <td>69.40</td>\n",
       "      <td>70.16</td>\n",
       "    </tr>\n",
       "    <tr>\n",
       "      <th>15</th>\n",
       "      <td>69.40</td>\n",
       "      <td>70.20</td>\n",
       "    </tr>\n",
       "    <tr>\n",
       "      <th>16</th>\n",
       "      <td>69.38</td>\n",
       "      <td>70.22</td>\n",
       "    </tr>\n",
       "    <tr>\n",
       "      <th>17</th>\n",
       "      <td>69.34</td>\n",
       "      <td>70.10</td>\n",
       "    </tr>\n",
       "    <tr>\n",
       "      <th>18</th>\n",
       "      <td>69.35</td>\n",
       "      <td>70.12</td>\n",
       "    </tr>\n",
       "    <tr>\n",
       "      <th>19</th>\n",
       "      <td>69.38</td>\n",
       "      <td>70.18</td>\n",
       "    </tr>\n",
       "    <tr>\n",
       "      <th>20</th>\n",
       "      <td>69.35</td>\n",
       "      <td>70.20</td>\n",
       "    </tr>\n",
       "    <tr>\n",
       "      <th>21</th>\n",
       "      <td>69.31</td>\n",
       "      <td>70.15</td>\n",
       "    </tr>\n",
       "    <tr>\n",
       "      <th>22</th>\n",
       "      <td>69.38</td>\n",
       "      <td>70.20</td>\n",
       "    </tr>\n",
       "    <tr>\n",
       "      <th>23</th>\n",
       "      <td>69.40</td>\n",
       "      <td>70.15</td>\n",
       "    </tr>\n",
       "    <tr>\n",
       "      <th>24</th>\n",
       "      <td>69.35</td>\n",
       "      <td>70.12</td>\n",
       "    </tr>\n",
       "    <tr>\n",
       "      <th>25</th>\n",
       "      <td>69.34</td>\n",
       "      <td>70.15</td>\n",
       "    </tr>\n",
       "    <tr>\n",
       "      <th>26</th>\n",
       "      <td>69.27</td>\n",
       "      <td>70.12</td>\n",
       "    </tr>\n",
       "    <tr>\n",
       "      <th>27</th>\n",
       "      <td>69.31</td>\n",
       "      <td>70.12</td>\n",
       "    </tr>\n",
       "    <tr>\n",
       "      <th>28</th>\n",
       "      <td>69.34</td>\n",
       "      <td>70.18</td>\n",
       "    </tr>\n",
       "    <tr>\n",
       "      <th>29</th>\n",
       "      <td>69.35</td>\n",
       "      <td>70.16</td>\n",
       "    </tr>\n",
       "  </tbody>\n",
       "</table>\n",
       "</div>"
      ],
      "text/plain": [
       "    K-type TC, °C  T-type TC, °C\n",
       "0           69.38          70.06\n",
       "1           69.34          70.05\n",
       "2           69.31          70.08\n",
       "3           69.34          70.10\n",
       "4           69.35          70.10\n",
       "5           69.31          70.06\n",
       "6           69.35          70.12\n",
       "7           69.37          70.12\n",
       "8           69.38          70.08\n",
       "9           69.35          70.15\n",
       "10          69.42          70.16\n",
       "11          69.40          70.20\n",
       "12          69.45          70.18\n",
       "13          69.38          70.20\n",
       "14          69.40          70.16\n",
       "15          69.40          70.20\n",
       "16          69.38          70.22\n",
       "17          69.34          70.10\n",
       "18          69.35          70.12\n",
       "19          69.38          70.18\n",
       "20          69.35          70.20\n",
       "21          69.31          70.15\n",
       "22          69.38          70.20\n",
       "23          69.40          70.15\n",
       "24          69.35          70.12\n",
       "25          69.34          70.15\n",
       "26          69.27          70.12\n",
       "27          69.31          70.12\n",
       "28          69.34          70.18\n",
       "29          69.35          70.16"
      ]
     },
     "execution_count": 46,
     "metadata": {},
     "output_type": "execute_result"
    }
   ],
   "source": [
    "temp_table"
   ]
  },
  {
   "cell_type": "markdown",
   "metadata": {},
   "source": [
    "That's beautiful. Now pandas has a nice function called head() that summarizes our data. Right now our data only has 2 columns and maybe 10+ rows. But head() is going to be super useful to have a giant table of 1000 rows x 1000 columns. This is how you use it. "
   ]
  },
  {
   "cell_type": "code",
   "execution_count": 47,
   "metadata": {
    "collapsed": false
   },
   "outputs": [
    {
     "data": {
      "text/html": [
       "<div>\n",
       "<table border=\"1\" class=\"dataframe\">\n",
       "  <thead>\n",
       "    <tr style=\"text-align: right;\">\n",
       "      <th></th>\n",
       "      <th>K-type TC, °C</th>\n",
       "      <th>T-type TC, °C</th>\n",
       "    </tr>\n",
       "  </thead>\n",
       "  <tbody>\n",
       "    <tr>\n",
       "      <th>0</th>\n",
       "      <td>69.38</td>\n",
       "      <td>70.06</td>\n",
       "    </tr>\n",
       "    <tr>\n",
       "      <th>1</th>\n",
       "      <td>69.34</td>\n",
       "      <td>70.05</td>\n",
       "    </tr>\n",
       "    <tr>\n",
       "      <th>2</th>\n",
       "      <td>69.31</td>\n",
       "      <td>70.08</td>\n",
       "    </tr>\n",
       "    <tr>\n",
       "      <th>3</th>\n",
       "      <td>69.34</td>\n",
       "      <td>70.10</td>\n",
       "    </tr>\n",
       "    <tr>\n",
       "      <th>4</th>\n",
       "      <td>69.35</td>\n",
       "      <td>70.10</td>\n",
       "    </tr>\n",
       "  </tbody>\n",
       "</table>\n",
       "</div>"
      ],
      "text/plain": [
       "   K-type TC, °C  T-type TC, °C\n",
       "0          69.38          70.06\n",
       "1          69.34          70.05\n",
       "2          69.31          70.08\n",
       "3          69.34          70.10\n",
       "4          69.35          70.10"
      ]
     },
     "execution_count": 47,
     "metadata": {},
     "output_type": "execute_result"
    }
   ],
   "source": [
    "temp_table.head()"
   ]
  },
  {
   "cell_type": "markdown",
   "metadata": {},
   "source": [
    "If you search up the [documentation](http://pandas.pydata.org/pandas-docs/stable/generated/pandas.DataFrame.head.html), you will see we can pass in an argument of how many rows we want to show. Let's see if we can show the first 7 rows."
   ]
  },
  {
   "cell_type": "code",
   "execution_count": 48,
   "metadata": {
    "collapsed": false
   },
   "outputs": [
    {
     "data": {
      "text/html": [
       "<div>\n",
       "<table border=\"1\" class=\"dataframe\">\n",
       "  <thead>\n",
       "    <tr style=\"text-align: right;\">\n",
       "      <th></th>\n",
       "      <th>K-type TC, °C</th>\n",
       "      <th>T-type TC, °C</th>\n",
       "    </tr>\n",
       "  </thead>\n",
       "  <tbody>\n",
       "    <tr>\n",
       "      <th>0</th>\n",
       "      <td>69.38</td>\n",
       "      <td>70.06</td>\n",
       "    </tr>\n",
       "    <tr>\n",
       "      <th>1</th>\n",
       "      <td>69.34</td>\n",
       "      <td>70.05</td>\n",
       "    </tr>\n",
       "    <tr>\n",
       "      <th>2</th>\n",
       "      <td>69.31</td>\n",
       "      <td>70.08</td>\n",
       "    </tr>\n",
       "    <tr>\n",
       "      <th>3</th>\n",
       "      <td>69.34</td>\n",
       "      <td>70.10</td>\n",
       "    </tr>\n",
       "    <tr>\n",
       "      <th>4</th>\n",
       "      <td>69.35</td>\n",
       "      <td>70.10</td>\n",
       "    </tr>\n",
       "    <tr>\n",
       "      <th>5</th>\n",
       "      <td>69.31</td>\n",
       "      <td>70.06</td>\n",
       "    </tr>\n",
       "    <tr>\n",
       "      <th>6</th>\n",
       "      <td>69.35</td>\n",
       "      <td>70.12</td>\n",
       "    </tr>\n",
       "  </tbody>\n",
       "</table>\n",
       "</div>"
      ],
      "text/plain": [
       "   K-type TC, °C  T-type TC, °C\n",
       "0          69.38          70.06\n",
       "1          69.34          70.05\n",
       "2          69.31          70.08\n",
       "3          69.34          70.10\n",
       "4          69.35          70.10\n",
       "5          69.31          70.06\n",
       "6          69.35          70.12"
      ]
     },
     "execution_count": 48,
     "metadata": {},
     "output_type": "execute_result"
    }
   ],
   "source": [
    "temp_table.head(7)"
   ]
  },
  {
   "cell_type": "markdown",
   "metadata": {},
   "source": [
    "That works! Let's now doing some fun stuff with pandas. I want to rename the two columns in liquid_table_temp to \"Primary\" and \"Ultrasonic\". Let's take a look at the current column names first. As always, I googled \"list of column names\" and found [this Stackoverflow answer](http://stackoverflow.com/questions/19482970/get-list-from-pandas-dataframe-column-headers)."
   ]
  },
  {
   "cell_type": "code",
   "execution_count": 49,
   "metadata": {
    "collapsed": false
   },
   "outputs": [
    {
     "data": {
      "text/plain": [
       "['Primary Std, Avg mL/s', 'Ultrasonic, mL/S']"
      ]
     },
     "execution_count": 49,
     "metadata": {},
     "output_type": "execute_result"
    }
   ],
   "source": [
    "list(liquid_flow_table.columns.values)"
   ]
  },
  {
   "cell_type": "markdown",
   "metadata": {},
   "source": [
    "Cool. Let's rename it now. Again, I googled \"pandas rename column\" and found http://stackoverflow.com/questions/11346283/renaming-columns-in-pandas"
   ]
  },
  {
   "cell_type": "code",
   "execution_count": 50,
   "metadata": {
    "collapsed": false
   },
   "outputs": [],
   "source": [
    "liquid_flow_table = liquid_flow_table.rename(columns={'Primary Std, Avg mL/s': 'Primary', \n",
    "                        'Ultrasonic, mL/S': 'Ultrasonic',})"
   ]
  },
  {
   "cell_type": "markdown",
   "metadata": {},
   "source": [
    "Let's check it now:"
   ]
  },
  {
   "cell_type": "code",
   "execution_count": 51,
   "metadata": {
    "collapsed": false
   },
   "outputs": [
    {
     "data": {
      "text/html": [
       "<div>\n",
       "<table border=\"1\" class=\"dataframe\">\n",
       "  <thead>\n",
       "    <tr style=\"text-align: right;\">\n",
       "      <th></th>\n",
       "      <th>Primary</th>\n",
       "      <th>Ultrasonic</th>\n",
       "    </tr>\n",
       "  </thead>\n",
       "  <tbody>\n",
       "    <tr>\n",
       "      <th>0</th>\n",
       "      <td>60.64</td>\n",
       "      <td>57.68</td>\n",
       "    </tr>\n",
       "    <tr>\n",
       "      <th>1</th>\n",
       "      <td>60.64</td>\n",
       "      <td>58.40</td>\n",
       "    </tr>\n",
       "    <tr>\n",
       "      <th>2</th>\n",
       "      <td>50.49</td>\n",
       "      <td>48.17</td>\n",
       "    </tr>\n",
       "    <tr>\n",
       "      <th>3</th>\n",
       "      <td>50.49</td>\n",
       "      <td>48.83</td>\n",
       "    </tr>\n",
       "    <tr>\n",
       "      <th>4</th>\n",
       "      <td>39.62</td>\n",
       "      <td>38.02</td>\n",
       "    </tr>\n",
       "  </tbody>\n",
       "</table>\n",
       "</div>"
      ],
      "text/plain": [
       "   Primary  Ultrasonic\n",
       "0    60.64       57.68\n",
       "1    60.64       58.40\n",
       "2    50.49       48.17\n",
       "3    50.49       48.83\n",
       "4    39.62       38.02"
      ]
     },
     "execution_count": 51,
     "metadata": {},
     "output_type": "execute_result"
    }
   ],
   "source": [
    "liquid_flow_table.head() # Great! It worked like we wanted."
   ]
  },
  {
   "cell_type": "markdown",
   "metadata": {},
   "source": [
    "Let's say I, for some reasons, want to add the primary + ultrasonic together and create a new column called mySum. Again, googled for \"pandas add column together\" and found http://stackoverflow.com/questions/22342285/summing-two-columns-in-a-pandas-dataframe"
   ]
  },
  {
   "cell_type": "code",
   "execution_count": 52,
   "metadata": {
    "collapsed": false
   },
   "outputs": [
    {
     "data": {
      "text/html": [
       "<div>\n",
       "<table border=\"1\" class=\"dataframe\">\n",
       "  <thead>\n",
       "    <tr style=\"text-align: right;\">\n",
       "      <th></th>\n",
       "      <th>Primary</th>\n",
       "      <th>Ultrasonic</th>\n",
       "      <th>mySum</th>\n",
       "    </tr>\n",
       "  </thead>\n",
       "  <tbody>\n",
       "    <tr>\n",
       "      <th>0</th>\n",
       "      <td>60.64</td>\n",
       "      <td>57.68</td>\n",
       "      <td>118.32</td>\n",
       "    </tr>\n",
       "    <tr>\n",
       "      <th>1</th>\n",
       "      <td>60.64</td>\n",
       "      <td>58.40</td>\n",
       "      <td>119.04</td>\n",
       "    </tr>\n",
       "    <tr>\n",
       "      <th>2</th>\n",
       "      <td>50.49</td>\n",
       "      <td>48.17</td>\n",
       "      <td>98.66</td>\n",
       "    </tr>\n",
       "    <tr>\n",
       "      <th>3</th>\n",
       "      <td>50.49</td>\n",
       "      <td>48.83</td>\n",
       "      <td>99.32</td>\n",
       "    </tr>\n",
       "    <tr>\n",
       "      <th>4</th>\n",
       "      <td>39.62</td>\n",
       "      <td>38.02</td>\n",
       "      <td>77.64</td>\n",
       "    </tr>\n",
       "  </tbody>\n",
       "</table>\n",
       "</div>"
      ],
      "text/plain": [
       "   Primary  Ultrasonic   mySum\n",
       "0    60.64       57.68  118.32\n",
       "1    60.64       58.40  119.04\n",
       "2    50.49       48.17   98.66\n",
       "3    50.49       48.83   99.32\n",
       "4    39.62       38.02   77.64"
      ]
     },
     "execution_count": 52,
     "metadata": {},
     "output_type": "execute_result"
    }
   ],
   "source": [
    "liquid_flow_table['mySum'] = liquid_flow_table.Primary + liquid_flow_table.Ultrasonic\n",
    "liquid_flow_table.head() #check my table to see if it did add"
   ]
  },
  {
   "cell_type": "code",
   "execution_count": 53,
   "metadata": {
    "collapsed": false
   },
   "outputs": [
    {
     "data": {
      "text/html": [
       "<div>\n",
       "<table border=\"1\" class=\"dataframe\">\n",
       "  <thead>\n",
       "    <tr style=\"text-align: right;\">\n",
       "      <th></th>\n",
       "      <th>Primary</th>\n",
       "      <th>Ultrasonic</th>\n",
       "      <th>mySum</th>\n",
       "      <th>myMultiplication</th>\n",
       "    </tr>\n",
       "  </thead>\n",
       "  <tbody>\n",
       "    <tr>\n",
       "      <th>0</th>\n",
       "      <td>60.64</td>\n",
       "      <td>57.68</td>\n",
       "      <td>118.32</td>\n",
       "      <td>3497.7152</td>\n",
       "    </tr>\n",
       "    <tr>\n",
       "      <th>1</th>\n",
       "      <td>60.64</td>\n",
       "      <td>58.40</td>\n",
       "      <td>119.04</td>\n",
       "      <td>3541.3760</td>\n",
       "    </tr>\n",
       "    <tr>\n",
       "      <th>2</th>\n",
       "      <td>50.49</td>\n",
       "      <td>48.17</td>\n",
       "      <td>98.66</td>\n",
       "      <td>2432.1033</td>\n",
       "    </tr>\n",
       "    <tr>\n",
       "      <th>3</th>\n",
       "      <td>50.49</td>\n",
       "      <td>48.83</td>\n",
       "      <td>99.32</td>\n",
       "      <td>2465.4267</td>\n",
       "    </tr>\n",
       "    <tr>\n",
       "      <th>4</th>\n",
       "      <td>39.62</td>\n",
       "      <td>38.02</td>\n",
       "      <td>77.64</td>\n",
       "      <td>1506.3524</td>\n",
       "    </tr>\n",
       "  </tbody>\n",
       "</table>\n",
       "</div>"
      ],
      "text/plain": [
       "   Primary  Ultrasonic   mySum  myMultiplication\n",
       "0    60.64       57.68  118.32         3497.7152\n",
       "1    60.64       58.40  119.04         3541.3760\n",
       "2    50.49       48.17   98.66         2432.1033\n",
       "3    50.49       48.83   99.32         2465.4267\n",
       "4    39.62       38.02   77.64         1506.3524"
      ]
     },
     "execution_count": 53,
     "metadata": {},
     "output_type": "execute_result"
    }
   ],
   "source": [
    "liquid_flow_table['myMultiplication'] = liquid_flow_table['Primary'] * liquid_flow_table['Ultrasonic']\n",
    "liquid_flow_table.head() #check my table to see if it did multiply"
   ]
  },
  {
   "cell_type": "code",
   "execution_count": 54,
   "metadata": {
    "collapsed": false
   },
   "outputs": [
    {
     "data": {
      "text/html": [
       "<div>\n",
       "<table border=\"1\" class=\"dataframe\">\n",
       "  <thead>\n",
       "    <tr style=\"text-align: right;\">\n",
       "      <th></th>\n",
       "      <th>Primary</th>\n",
       "      <th>Ultrasonic</th>\n",
       "      <th>mySum</th>\n",
       "      <th>myMultiplication</th>\n",
       "      <th>myPower</th>\n",
       "    </tr>\n",
       "  </thead>\n",
       "  <tbody>\n",
       "    <tr>\n",
       "      <th>0</th>\n",
       "      <td>60.64</td>\n",
       "      <td>57.68</td>\n",
       "      <td>118.32</td>\n",
       "      <td>3497.7152</td>\n",
       "      <td>6.753832e+102</td>\n",
       "    </tr>\n",
       "    <tr>\n",
       "      <th>1</th>\n",
       "      <td>60.64</td>\n",
       "      <td>58.40</td>\n",
       "      <td>119.04</td>\n",
       "      <td>3541.3760</td>\n",
       "      <td>1.297588e+104</td>\n",
       "    </tr>\n",
       "    <tr>\n",
       "      <th>2</th>\n",
       "      <td>50.49</td>\n",
       "      <td>48.17</td>\n",
       "      <td>98.66</td>\n",
       "      <td>2432.1033</td>\n",
       "      <td>1.105103e+82</td>\n",
       "    </tr>\n",
       "    <tr>\n",
       "      <th>3</th>\n",
       "      <td>50.49</td>\n",
       "      <td>48.83</td>\n",
       "      <td>99.32</td>\n",
       "      <td>2465.4267</td>\n",
       "      <td>1.470680e+83</td>\n",
       "    </tr>\n",
       "    <tr>\n",
       "      <th>4</th>\n",
       "      <td>39.62</td>\n",
       "      <td>38.02</td>\n",
       "      <td>77.64</td>\n",
       "      <td>1506.3524</td>\n",
       "      <td>5.658590e+60</td>\n",
       "    </tr>\n",
       "  </tbody>\n",
       "</table>\n",
       "</div>"
      ],
      "text/plain": [
       "   Primary  Ultrasonic   mySum  myMultiplication        myPower\n",
       "0    60.64       57.68  118.32         3497.7152  6.753832e+102\n",
       "1    60.64       58.40  119.04         3541.3760  1.297588e+104\n",
       "2    50.49       48.17   98.66         2432.1033   1.105103e+82\n",
       "3    50.49       48.83   99.32         2465.4267   1.470680e+83\n",
       "4    39.62       38.02   77.64         1506.3524   5.658590e+60"
      ]
     },
     "execution_count": 54,
     "metadata": {},
     "output_type": "execute_result"
    }
   ],
   "source": [
    "liquid_flow_table['myPower'] = liquid_flow_table.Primary ** liquid_flow_table.Ultrasonic\n",
    "liquid_flow_table.head() #check my table to see if it did multiply"
   ]
  },
  {
   "cell_type": "markdown",
   "metadata": {},
   "source": [
    "Let's say now I want to create a new column that is the cumulative sum of `Ultrasonic`."
   ]
  },
  {
   "cell_type": "code",
   "execution_count": 55,
   "metadata": {
    "collapsed": false
   },
   "outputs": [
    {
     "data": {
      "text/html": [
       "<div>\n",
       "<table border=\"1\" class=\"dataframe\">\n",
       "  <thead>\n",
       "    <tr style=\"text-align: right;\">\n",
       "      <th></th>\n",
       "      <th>Primary</th>\n",
       "      <th>Ultrasonic</th>\n",
       "      <th>mySum</th>\n",
       "      <th>myMultiplication</th>\n",
       "      <th>myPower</th>\n",
       "      <th>CumulativeSum</th>\n",
       "    </tr>\n",
       "  </thead>\n",
       "  <tbody>\n",
       "    <tr>\n",
       "      <th>0</th>\n",
       "      <td>60.64</td>\n",
       "      <td>57.68</td>\n",
       "      <td>118.32</td>\n",
       "      <td>3497.7152</td>\n",
       "      <td>6.753832e+102</td>\n",
       "      <td>57.68</td>\n",
       "    </tr>\n",
       "    <tr>\n",
       "      <th>1</th>\n",
       "      <td>60.64</td>\n",
       "      <td>58.40</td>\n",
       "      <td>119.04</td>\n",
       "      <td>3541.3760</td>\n",
       "      <td>1.297588e+104</td>\n",
       "      <td>116.08</td>\n",
       "    </tr>\n",
       "    <tr>\n",
       "      <th>2</th>\n",
       "      <td>50.49</td>\n",
       "      <td>48.17</td>\n",
       "      <td>98.66</td>\n",
       "      <td>2432.1033</td>\n",
       "      <td>1.105103e+82</td>\n",
       "      <td>164.25</td>\n",
       "    </tr>\n",
       "    <tr>\n",
       "      <th>3</th>\n",
       "      <td>50.49</td>\n",
       "      <td>48.83</td>\n",
       "      <td>99.32</td>\n",
       "      <td>2465.4267</td>\n",
       "      <td>1.470680e+83</td>\n",
       "      <td>213.08</td>\n",
       "    </tr>\n",
       "    <tr>\n",
       "      <th>4</th>\n",
       "      <td>39.62</td>\n",
       "      <td>38.02</td>\n",
       "      <td>77.64</td>\n",
       "      <td>1506.3524</td>\n",
       "      <td>5.658590e+60</td>\n",
       "      <td>251.10</td>\n",
       "    </tr>\n",
       "    <tr>\n",
       "      <th>5</th>\n",
       "      <td>39.62</td>\n",
       "      <td>38.47</td>\n",
       "      <td>78.09</td>\n",
       "      <td>1524.1814</td>\n",
       "      <td>2.963260e+61</td>\n",
       "      <td>289.57</td>\n",
       "    </tr>\n",
       "    <tr>\n",
       "      <th>6</th>\n",
       "      <td>28.55</td>\n",
       "      <td>27.23</td>\n",
       "      <td>55.78</td>\n",
       "      <td>777.4165</td>\n",
       "      <td>4.326677e+39</td>\n",
       "      <td>316.80</td>\n",
       "    </tr>\n",
       "    <tr>\n",
       "      <th>7</th>\n",
       "      <td>28.55</td>\n",
       "      <td>27.77</td>\n",
       "      <td>56.32</td>\n",
       "      <td>792.8335</td>\n",
       "      <td>2.643515e+40</td>\n",
       "      <td>344.57</td>\n",
       "    </tr>\n",
       "    <tr>\n",
       "      <th>8</th>\n",
       "      <td>18.19</td>\n",
       "      <td>17.45</td>\n",
       "      <td>35.64</td>\n",
       "      <td>317.4155</td>\n",
       "      <td>9.640079e+21</td>\n",
       "      <td>362.02</td>\n",
       "    </tr>\n",
       "    <tr>\n",
       "      <th>9</th>\n",
       "      <td>18.19</td>\n",
       "      <td>17.67</td>\n",
       "      <td>35.86</td>\n",
       "      <td>321.4173</td>\n",
       "      <td>1.824920e+22</td>\n",
       "      <td>379.69</td>\n",
       "    </tr>\n",
       "  </tbody>\n",
       "</table>\n",
       "</div>"
      ],
      "text/plain": [
       "   Primary  Ultrasonic   mySum  myMultiplication        myPower  CumulativeSum\n",
       "0    60.64       57.68  118.32         3497.7152  6.753832e+102          57.68\n",
       "1    60.64       58.40  119.04         3541.3760  1.297588e+104         116.08\n",
       "2    50.49       48.17   98.66         2432.1033   1.105103e+82         164.25\n",
       "3    50.49       48.83   99.32         2465.4267   1.470680e+83         213.08\n",
       "4    39.62       38.02   77.64         1506.3524   5.658590e+60         251.10\n",
       "5    39.62       38.47   78.09         1524.1814   2.963260e+61         289.57\n",
       "6    28.55       27.23   55.78          777.4165   4.326677e+39         316.80\n",
       "7    28.55       27.77   56.32          792.8335   2.643515e+40         344.57\n",
       "8    18.19       17.45   35.64          317.4155   9.640079e+21         362.02\n",
       "9    18.19       17.67   35.86          321.4173   1.824920e+22         379.69"
      ]
     },
     "execution_count": 55,
     "metadata": {},
     "output_type": "execute_result"
    }
   ],
   "source": [
    "liquid_flow_table['CumulativeSum'] = liquid_flow_table.Ultrasonic.cumsum()\n",
    "liquid_flow_table"
   ]
  },
  {
   "cell_type": "markdown",
   "metadata": {},
   "source": [
    "Now let's say I want to divide this CumulativeSum by the maximum of that Cumulative Sum column. I'm going to call the new column something arbitrary, \"myDivision\".\n",
    "\n",
    "Again, I don't know how to find the max of the CumulativeSum column so I googled \"pandas max value in column\". Found this http://pandas.pydata.org/pandas-docs/stable/generated/pandas.DataFrame.max.html"
   ]
  },
  {
   "cell_type": "code",
   "execution_count": 56,
   "metadata": {
    "collapsed": false
   },
   "outputs": [
    {
     "data": {
      "text/plain": [
       "379.69"
      ]
     },
     "execution_count": 56,
     "metadata": {},
     "output_type": "execute_result"
    }
   ],
   "source": [
    "liquid_flow_table['CumulativeSum'].max() #looks right"
   ]
  },
  {
   "cell_type": "code",
   "execution_count": 57,
   "metadata": {
    "collapsed": false
   },
   "outputs": [
    {
     "data": {
      "text/html": [
       "<div>\n",
       "<table border=\"1\" class=\"dataframe\">\n",
       "  <thead>\n",
       "    <tr style=\"text-align: right;\">\n",
       "      <th></th>\n",
       "      <th>Primary</th>\n",
       "      <th>Ultrasonic</th>\n",
       "      <th>mySum</th>\n",
       "      <th>myMultiplication</th>\n",
       "      <th>myPower</th>\n",
       "      <th>CumulativeSum</th>\n",
       "      <th>myDivision</th>\n",
       "    </tr>\n",
       "  </thead>\n",
       "  <tbody>\n",
       "    <tr>\n",
       "      <th>0</th>\n",
       "      <td>60.64</td>\n",
       "      <td>57.68</td>\n",
       "      <td>118.32</td>\n",
       "      <td>3497.7152</td>\n",
       "      <td>6.753832e+102</td>\n",
       "      <td>57.68</td>\n",
       "      <td>0.151913</td>\n",
       "    </tr>\n",
       "    <tr>\n",
       "      <th>1</th>\n",
       "      <td>60.64</td>\n",
       "      <td>58.40</td>\n",
       "      <td>119.04</td>\n",
       "      <td>3541.3760</td>\n",
       "      <td>1.297588e+104</td>\n",
       "      <td>116.08</td>\n",
       "      <td>0.305723</td>\n",
       "    </tr>\n",
       "    <tr>\n",
       "      <th>2</th>\n",
       "      <td>50.49</td>\n",
       "      <td>48.17</td>\n",
       "      <td>98.66</td>\n",
       "      <td>2432.1033</td>\n",
       "      <td>1.105103e+82</td>\n",
       "      <td>164.25</td>\n",
       "      <td>0.432590</td>\n",
       "    </tr>\n",
       "    <tr>\n",
       "      <th>3</th>\n",
       "      <td>50.49</td>\n",
       "      <td>48.83</td>\n",
       "      <td>99.32</td>\n",
       "      <td>2465.4267</td>\n",
       "      <td>1.470680e+83</td>\n",
       "      <td>213.08</td>\n",
       "      <td>0.561195</td>\n",
       "    </tr>\n",
       "    <tr>\n",
       "      <th>4</th>\n",
       "      <td>39.62</td>\n",
       "      <td>38.02</td>\n",
       "      <td>77.64</td>\n",
       "      <td>1506.3524</td>\n",
       "      <td>5.658590e+60</td>\n",
       "      <td>251.10</td>\n",
       "      <td>0.661329</td>\n",
       "    </tr>\n",
       "  </tbody>\n",
       "</table>\n",
       "</div>"
      ],
      "text/plain": [
       "   Primary  Ultrasonic   mySum  myMultiplication        myPower  \\\n",
       "0    60.64       57.68  118.32         3497.7152  6.753832e+102   \n",
       "1    60.64       58.40  119.04         3541.3760  1.297588e+104   \n",
       "2    50.49       48.17   98.66         2432.1033   1.105103e+82   \n",
       "3    50.49       48.83   99.32         2465.4267   1.470680e+83   \n",
       "4    39.62       38.02   77.64         1506.3524   5.658590e+60   \n",
       "\n",
       "   CumulativeSum  myDivision  \n",
       "0          57.68    0.151913  \n",
       "1         116.08    0.305723  \n",
       "2         164.25    0.432590  \n",
       "3         213.08    0.561195  \n",
       "4         251.10    0.661329  "
      ]
     },
     "execution_count": 57,
     "metadata": {},
     "output_type": "execute_result"
    }
   ],
   "source": [
    "liquid_flow_table['myDivision'] = liquid_flow_table['CumulativeSum']/liquid_flow_table['CumulativeSum'].max()\n",
    "liquid_flow_table.head()"
   ]
  },
  {
   "cell_type": "markdown",
   "metadata": {},
   "source": [
    "Now let's say I want to sort the table based on the `Primary` column from smallest to largest."
   ]
  },
  {
   "cell_type": "code",
   "execution_count": 58,
   "metadata": {
    "collapsed": false
   },
   "outputs": [
    {
     "name": "stderr",
     "output_type": "stream",
     "text": [
      "C:\\Anaconda3\\lib\\site-packages\\ipykernel\\__main__.py:1: FutureWarning: sort(columns=....) is deprecated, use sort_values(by=.....)\n",
      "  if __name__ == '__main__':\n"
     ]
    }
   ],
   "source": [
    "liquid_flow_table.sort('Primary', ascending=True, inplace=True)"
   ]
  },
  {
   "cell_type": "markdown",
   "metadata": {},
   "source": [
    "Apparently the sort() we are trying to use is deprecreted, I don't know what that quite mean but I'm gonna do what it says and use sort_values() instead"
   ]
  },
  {
   "cell_type": "code",
   "execution_count": 59,
   "metadata": {
    "collapsed": false
   },
   "outputs": [
    {
     "data": {
      "text/html": [
       "<div>\n",
       "<table border=\"1\" class=\"dataframe\">\n",
       "  <thead>\n",
       "    <tr style=\"text-align: right;\">\n",
       "      <th></th>\n",
       "      <th>Primary</th>\n",
       "      <th>Ultrasonic</th>\n",
       "      <th>mySum</th>\n",
       "      <th>myMultiplication</th>\n",
       "      <th>myPower</th>\n",
       "      <th>CumulativeSum</th>\n",
       "      <th>myDivision</th>\n",
       "    </tr>\n",
       "  </thead>\n",
       "  <tbody>\n",
       "    <tr>\n",
       "      <th>8</th>\n",
       "      <td>18.19</td>\n",
       "      <td>17.45</td>\n",
       "      <td>35.64</td>\n",
       "      <td>317.4155</td>\n",
       "      <td>9.640079e+21</td>\n",
       "      <td>362.02</td>\n",
       "      <td>0.953462</td>\n",
       "    </tr>\n",
       "    <tr>\n",
       "      <th>9</th>\n",
       "      <td>18.19</td>\n",
       "      <td>17.67</td>\n",
       "      <td>35.86</td>\n",
       "      <td>321.4173</td>\n",
       "      <td>1.824920e+22</td>\n",
       "      <td>379.69</td>\n",
       "      <td>1.000000</td>\n",
       "    </tr>\n",
       "    <tr>\n",
       "      <th>6</th>\n",
       "      <td>28.55</td>\n",
       "      <td>27.23</td>\n",
       "      <td>55.78</td>\n",
       "      <td>777.4165</td>\n",
       "      <td>4.326677e+39</td>\n",
       "      <td>316.80</td>\n",
       "      <td>0.834365</td>\n",
       "    </tr>\n",
       "    <tr>\n",
       "      <th>7</th>\n",
       "      <td>28.55</td>\n",
       "      <td>27.77</td>\n",
       "      <td>56.32</td>\n",
       "      <td>792.8335</td>\n",
       "      <td>2.643515e+40</td>\n",
       "      <td>344.57</td>\n",
       "      <td>0.907503</td>\n",
       "    </tr>\n",
       "    <tr>\n",
       "      <th>4</th>\n",
       "      <td>39.62</td>\n",
       "      <td>38.02</td>\n",
       "      <td>77.64</td>\n",
       "      <td>1506.3524</td>\n",
       "      <td>5.658590e+60</td>\n",
       "      <td>251.10</td>\n",
       "      <td>0.661329</td>\n",
       "    </tr>\n",
       "  </tbody>\n",
       "</table>\n",
       "</div>"
      ],
      "text/plain": [
       "   Primary  Ultrasonic  mySum  myMultiplication       myPower  CumulativeSum  \\\n",
       "8    18.19       17.45  35.64          317.4155  9.640079e+21         362.02   \n",
       "9    18.19       17.67  35.86          321.4173  1.824920e+22         379.69   \n",
       "6    28.55       27.23  55.78          777.4165  4.326677e+39         316.80   \n",
       "7    28.55       27.77  56.32          792.8335  2.643515e+40         344.57   \n",
       "4    39.62       38.02  77.64         1506.3524  5.658590e+60         251.10   \n",
       "\n",
       "   myDivision  \n",
       "8    0.953462  \n",
       "9    1.000000  \n",
       "6    0.834365  \n",
       "7    0.907503  \n",
       "4    0.661329  "
      ]
     },
     "execution_count": 59,
     "metadata": {},
     "output_type": "execute_result"
    }
   ],
   "source": [
    "liquid_flow_table.sort_values(by='Primary', ascending=True, inplace=True)\n",
    "liquid_flow_table.head()"
   ]
  },
  {
   "cell_type": "markdown",
   "metadata": {},
   "source": [
    "Now let's do some filtering. I want my table to **only shows Primary values that are greater than 40**. Let's first take a look at the original table before we move on."
   ]
  },
  {
   "cell_type": "code",
   "execution_count": 60,
   "metadata": {
    "collapsed": false
   },
   "outputs": [
    {
     "data": {
      "text/html": [
       "<div>\n",
       "<table border=\"1\" class=\"dataframe\">\n",
       "  <thead>\n",
       "    <tr style=\"text-align: right;\">\n",
       "      <th></th>\n",
       "      <th>Primary</th>\n",
       "      <th>Ultrasonic</th>\n",
       "      <th>mySum</th>\n",
       "      <th>myMultiplication</th>\n",
       "      <th>myPower</th>\n",
       "      <th>CumulativeSum</th>\n",
       "      <th>myDivision</th>\n",
       "    </tr>\n",
       "  </thead>\n",
       "  <tbody>\n",
       "    <tr>\n",
       "      <th>8</th>\n",
       "      <td>18.19</td>\n",
       "      <td>17.45</td>\n",
       "      <td>35.64</td>\n",
       "      <td>317.4155</td>\n",
       "      <td>9.640079e+21</td>\n",
       "      <td>362.02</td>\n",
       "      <td>0.953462</td>\n",
       "    </tr>\n",
       "    <tr>\n",
       "      <th>9</th>\n",
       "      <td>18.19</td>\n",
       "      <td>17.67</td>\n",
       "      <td>35.86</td>\n",
       "      <td>321.4173</td>\n",
       "      <td>1.824920e+22</td>\n",
       "      <td>379.69</td>\n",
       "      <td>1.000000</td>\n",
       "    </tr>\n",
       "    <tr>\n",
       "      <th>6</th>\n",
       "      <td>28.55</td>\n",
       "      <td>27.23</td>\n",
       "      <td>55.78</td>\n",
       "      <td>777.4165</td>\n",
       "      <td>4.326677e+39</td>\n",
       "      <td>316.80</td>\n",
       "      <td>0.834365</td>\n",
       "    </tr>\n",
       "    <tr>\n",
       "      <th>7</th>\n",
       "      <td>28.55</td>\n",
       "      <td>27.77</td>\n",
       "      <td>56.32</td>\n",
       "      <td>792.8335</td>\n",
       "      <td>2.643515e+40</td>\n",
       "      <td>344.57</td>\n",
       "      <td>0.907503</td>\n",
       "    </tr>\n",
       "    <tr>\n",
       "      <th>4</th>\n",
       "      <td>39.62</td>\n",
       "      <td>38.02</td>\n",
       "      <td>77.64</td>\n",
       "      <td>1506.3524</td>\n",
       "      <td>5.658590e+60</td>\n",
       "      <td>251.10</td>\n",
       "      <td>0.661329</td>\n",
       "    </tr>\n",
       "    <tr>\n",
       "      <th>5</th>\n",
       "      <td>39.62</td>\n",
       "      <td>38.47</td>\n",
       "      <td>78.09</td>\n",
       "      <td>1524.1814</td>\n",
       "      <td>2.963260e+61</td>\n",
       "      <td>289.57</td>\n",
       "      <td>0.762648</td>\n",
       "    </tr>\n",
       "    <tr>\n",
       "      <th>2</th>\n",
       "      <td>50.49</td>\n",
       "      <td>48.17</td>\n",
       "      <td>98.66</td>\n",
       "      <td>2432.1033</td>\n",
       "      <td>1.105103e+82</td>\n",
       "      <td>164.25</td>\n",
       "      <td>0.432590</td>\n",
       "    </tr>\n",
       "    <tr>\n",
       "      <th>3</th>\n",
       "      <td>50.49</td>\n",
       "      <td>48.83</td>\n",
       "      <td>99.32</td>\n",
       "      <td>2465.4267</td>\n",
       "      <td>1.470680e+83</td>\n",
       "      <td>213.08</td>\n",
       "      <td>0.561195</td>\n",
       "    </tr>\n",
       "    <tr>\n",
       "      <th>0</th>\n",
       "      <td>60.64</td>\n",
       "      <td>57.68</td>\n",
       "      <td>118.32</td>\n",
       "      <td>3497.7152</td>\n",
       "      <td>6.753832e+102</td>\n",
       "      <td>57.68</td>\n",
       "      <td>0.151913</td>\n",
       "    </tr>\n",
       "    <tr>\n",
       "      <th>1</th>\n",
       "      <td>60.64</td>\n",
       "      <td>58.40</td>\n",
       "      <td>119.04</td>\n",
       "      <td>3541.3760</td>\n",
       "      <td>1.297588e+104</td>\n",
       "      <td>116.08</td>\n",
       "      <td>0.305723</td>\n",
       "    </tr>\n",
       "  </tbody>\n",
       "</table>\n",
       "</div>"
      ],
      "text/plain": [
       "   Primary  Ultrasonic   mySum  myMultiplication        myPower  \\\n",
       "8    18.19       17.45   35.64          317.4155   9.640079e+21   \n",
       "9    18.19       17.67   35.86          321.4173   1.824920e+22   \n",
       "6    28.55       27.23   55.78          777.4165   4.326677e+39   \n",
       "7    28.55       27.77   56.32          792.8335   2.643515e+40   \n",
       "4    39.62       38.02   77.64         1506.3524   5.658590e+60   \n",
       "5    39.62       38.47   78.09         1524.1814   2.963260e+61   \n",
       "2    50.49       48.17   98.66         2432.1033   1.105103e+82   \n",
       "3    50.49       48.83   99.32         2465.4267   1.470680e+83   \n",
       "0    60.64       57.68  118.32         3497.7152  6.753832e+102   \n",
       "1    60.64       58.40  119.04         3541.3760  1.297588e+104   \n",
       "\n",
       "   CumulativeSum  myDivision  \n",
       "8         362.02    0.953462  \n",
       "9         379.69    1.000000  \n",
       "6         316.80    0.834365  \n",
       "7         344.57    0.907503  \n",
       "4         251.10    0.661329  \n",
       "5         289.57    0.762648  \n",
       "2         164.25    0.432590  \n",
       "3         213.08    0.561195  \n",
       "0          57.68    0.151913  \n",
       "1         116.08    0.305723  "
      ]
     },
     "execution_count": 60,
     "metadata": {},
     "output_type": "execute_result"
    }
   ],
   "source": [
    "liquid_flow_table"
   ]
  },
  {
   "cell_type": "markdown",
   "metadata": {},
   "source": [
    "http://stackoverflow.com/questions/17071871/select-rows-from-a-dataframe-based-on-values-in-a-column-in-pandas"
   ]
  },
  {
   "cell_type": "code",
   "execution_count": 61,
   "metadata": {
    "collapsed": false
   },
   "outputs": [
    {
     "data": {
      "text/html": [
       "<div>\n",
       "<table border=\"1\" class=\"dataframe\">\n",
       "  <thead>\n",
       "    <tr style=\"text-align: right;\">\n",
       "      <th></th>\n",
       "      <th>Primary</th>\n",
       "      <th>Ultrasonic</th>\n",
       "      <th>mySum</th>\n",
       "      <th>myMultiplication</th>\n",
       "      <th>myPower</th>\n",
       "      <th>CumulativeSum</th>\n",
       "      <th>myDivision</th>\n",
       "    </tr>\n",
       "  </thead>\n",
       "  <tbody>\n",
       "    <tr>\n",
       "      <th>2</th>\n",
       "      <td>50.49</td>\n",
       "      <td>48.17</td>\n",
       "      <td>98.66</td>\n",
       "      <td>2432.1033</td>\n",
       "      <td>1.105103e+82</td>\n",
       "      <td>164.25</td>\n",
       "      <td>0.432590</td>\n",
       "    </tr>\n",
       "    <tr>\n",
       "      <th>3</th>\n",
       "      <td>50.49</td>\n",
       "      <td>48.83</td>\n",
       "      <td>99.32</td>\n",
       "      <td>2465.4267</td>\n",
       "      <td>1.470680e+83</td>\n",
       "      <td>213.08</td>\n",
       "      <td>0.561195</td>\n",
       "    </tr>\n",
       "    <tr>\n",
       "      <th>0</th>\n",
       "      <td>60.64</td>\n",
       "      <td>57.68</td>\n",
       "      <td>118.32</td>\n",
       "      <td>3497.7152</td>\n",
       "      <td>6.753832e+102</td>\n",
       "      <td>57.68</td>\n",
       "      <td>0.151913</td>\n",
       "    </tr>\n",
       "    <tr>\n",
       "      <th>1</th>\n",
       "      <td>60.64</td>\n",
       "      <td>58.40</td>\n",
       "      <td>119.04</td>\n",
       "      <td>3541.3760</td>\n",
       "      <td>1.297588e+104</td>\n",
       "      <td>116.08</td>\n",
       "      <td>0.305723</td>\n",
       "    </tr>\n",
       "  </tbody>\n",
       "</table>\n",
       "</div>"
      ],
      "text/plain": [
       "   Primary  Ultrasonic   mySum  myMultiplication        myPower  \\\n",
       "2    50.49       48.17   98.66         2432.1033   1.105103e+82   \n",
       "3    50.49       48.83   99.32         2465.4267   1.470680e+83   \n",
       "0    60.64       57.68  118.32         3497.7152  6.753832e+102   \n",
       "1    60.64       58.40  119.04         3541.3760  1.297588e+104   \n",
       "\n",
       "   CumulativeSum  myDivision  \n",
       "2         164.25    0.432590  \n",
       "3         213.08    0.561195  \n",
       "0          57.68    0.151913  \n",
       "1         116.08    0.305723  "
      ]
     },
     "execution_count": 61,
     "metadata": {},
     "output_type": "execute_result"
    }
   ],
   "source": [
    "liquid_flow_table.loc[liquid_flow_table['Ultrasonic'] > 40].head()"
   ]
  },
  {
   "cell_type": "markdown",
   "metadata": {},
   "source": [
    "That stackoverflow answer brought up a really nice option. That is, how can I select data where only certain values is what I want. For example, I want the table to only show rows where my Primary is either 39.61 or 60.64."
   ]
  },
  {
   "cell_type": "code",
   "execution_count": 66,
   "metadata": {
    "collapsed": false
   },
   "outputs": [
    {
     "ename": "TypeError",
     "evalue": "isin() takes 2 positional arguments but 3 were given",
     "output_type": "error",
     "traceback": [
      "\u001b[1;31m---------------------------------------------------------------------------\u001b[0m",
      "\u001b[1;31mTypeError\u001b[0m                                 Traceback (most recent call last)",
      "\u001b[1;32m<ipython-input-66-5abf09c63f87>\u001b[0m in \u001b[0;36m<module>\u001b[1;34m()\u001b[0m\n\u001b[1;32m----> 1\u001b[1;33m \u001b[0mliquid_flow_table\u001b[0m\u001b[1;33m.\u001b[0m\u001b[0mloc\u001b[0m\u001b[1;33m[\u001b[0m\u001b[0mliquid_flow_table\u001b[0m\u001b[1;33m[\u001b[0m\u001b[1;34m'Primary'\u001b[0m\u001b[1;33m]\u001b[0m\u001b[1;33m.\u001b[0m\u001b[0misin\u001b[0m\u001b[1;33m(\u001b[0m\u001b[1;36m39.62\u001b[0m\u001b[1;33m,\u001b[0m\u001b[1;36m60.64\u001b[0m\u001b[1;33m)\u001b[0m\u001b[1;33m]\u001b[0m\u001b[1;33m.\u001b[0m\u001b[0mhead\u001b[0m\u001b[1;33m(\u001b[0m\u001b[1;33m)\u001b[0m\u001b[1;33m\u001b[0m\u001b[0m\n\u001b[0m",
      "\u001b[1;31mTypeError\u001b[0m: isin() takes 2 positional arguments but 3 were given"
     ]
    }
   ],
   "source": [
    "liquid_flow_table.loc[liquid_flow_table['Primary'].isin(39.62,60.64)].head()"
   ]
  },
  {
   "cell_type": "markdown",
   "metadata": {},
   "source": [
    "Not working so I searched \"pandas isin()\" and found http://pandas.pydata.org/pandas-docs/stable/generated/pandas.DataFrame.isin.html\n",
    "\n",
    "Seems like they put their values in [] so I'm gonna do that and see if it fixes the problem."
   ]
  },
  {
   "cell_type": "code",
   "execution_count": 65,
   "metadata": {
    "collapsed": false
   },
   "outputs": [
    {
     "data": {
      "text/html": [
       "<div>\n",
       "<table border=\"1\" class=\"dataframe\">\n",
       "  <thead>\n",
       "    <tr style=\"text-align: right;\">\n",
       "      <th></th>\n",
       "      <th>Primary</th>\n",
       "      <th>Ultrasonic</th>\n",
       "      <th>mySum</th>\n",
       "      <th>myMultiplication</th>\n",
       "      <th>myPower</th>\n",
       "      <th>CumulativeSum</th>\n",
       "      <th>myDivision</th>\n",
       "    </tr>\n",
       "  </thead>\n",
       "  <tbody>\n",
       "    <tr>\n",
       "      <th>4</th>\n",
       "      <td>39.62</td>\n",
       "      <td>38.02</td>\n",
       "      <td>77.64</td>\n",
       "      <td>1506.3524</td>\n",
       "      <td>5.658590e+60</td>\n",
       "      <td>251.10</td>\n",
       "      <td>0.661329</td>\n",
       "    </tr>\n",
       "    <tr>\n",
       "      <th>5</th>\n",
       "      <td>39.62</td>\n",
       "      <td>38.47</td>\n",
       "      <td>78.09</td>\n",
       "      <td>1524.1814</td>\n",
       "      <td>2.963260e+61</td>\n",
       "      <td>289.57</td>\n",
       "      <td>0.762648</td>\n",
       "    </tr>\n",
       "    <tr>\n",
       "      <th>0</th>\n",
       "      <td>60.64</td>\n",
       "      <td>57.68</td>\n",
       "      <td>118.32</td>\n",
       "      <td>3497.7152</td>\n",
       "      <td>6.753832e+102</td>\n",
       "      <td>57.68</td>\n",
       "      <td>0.151913</td>\n",
       "    </tr>\n",
       "    <tr>\n",
       "      <th>1</th>\n",
       "      <td>60.64</td>\n",
       "      <td>58.40</td>\n",
       "      <td>119.04</td>\n",
       "      <td>3541.3760</td>\n",
       "      <td>1.297588e+104</td>\n",
       "      <td>116.08</td>\n",
       "      <td>0.305723</td>\n",
       "    </tr>\n",
       "  </tbody>\n",
       "</table>\n",
       "</div>"
      ],
      "text/plain": [
       "   Primary  Ultrasonic   mySum  myMultiplication        myPower  \\\n",
       "4    39.62       38.02   77.64         1506.3524   5.658590e+60   \n",
       "5    39.62       38.47   78.09         1524.1814   2.963260e+61   \n",
       "0    60.64       57.68  118.32         3497.7152  6.753832e+102   \n",
       "1    60.64       58.40  119.04         3541.3760  1.297588e+104   \n",
       "\n",
       "   CumulativeSum  myDivision  \n",
       "4         251.10    0.661329  \n",
       "5         289.57    0.762648  \n",
       "0          57.68    0.151913  \n",
       "1         116.08    0.305723  "
      ]
     },
     "execution_count": 65,
     "metadata": {},
     "output_type": "execute_result"
    }
   ],
   "source": [
    "liquid_flow_table.loc[liquid_flow_table['Primary'].isin([39.62,60.64])].head()"
   ]
  },
  {
   "cell_type": "markdown",
   "metadata": {},
   "source": [
    "Great! That sounds like most of the things I want to do. Now I want to try somethinga litle bit different and actually plot them out. I'm going back to my temp_table and plot the K-type and T-Type. Let's take a look at the temp_table again before we start."
   ]
  },
  {
   "cell_type": "code",
   "execution_count": 69,
   "metadata": {
    "collapsed": false
   },
   "outputs": [
    {
     "data": {
      "text/html": [
       "<div>\n",
       "<table border=\"1\" class=\"dataframe\">\n",
       "  <thead>\n",
       "    <tr style=\"text-align: right;\">\n",
       "      <th></th>\n",
       "      <th>K-type TC, °C</th>\n",
       "      <th>T-type TC, °C</th>\n",
       "    </tr>\n",
       "  </thead>\n",
       "  <tbody>\n",
       "    <tr>\n",
       "      <th>0</th>\n",
       "      <td>69.38</td>\n",
       "      <td>70.06</td>\n",
       "    </tr>\n",
       "    <tr>\n",
       "      <th>1</th>\n",
       "      <td>69.34</td>\n",
       "      <td>70.05</td>\n",
       "    </tr>\n",
       "    <tr>\n",
       "      <th>2</th>\n",
       "      <td>69.31</td>\n",
       "      <td>70.08</td>\n",
       "    </tr>\n",
       "    <tr>\n",
       "      <th>3</th>\n",
       "      <td>69.34</td>\n",
       "      <td>70.10</td>\n",
       "    </tr>\n",
       "    <tr>\n",
       "      <th>4</th>\n",
       "      <td>69.35</td>\n",
       "      <td>70.10</td>\n",
       "    </tr>\n",
       "    <tr>\n",
       "      <th>5</th>\n",
       "      <td>69.31</td>\n",
       "      <td>70.06</td>\n",
       "    </tr>\n",
       "    <tr>\n",
       "      <th>6</th>\n",
       "      <td>69.35</td>\n",
       "      <td>70.12</td>\n",
       "    </tr>\n",
       "    <tr>\n",
       "      <th>7</th>\n",
       "      <td>69.37</td>\n",
       "      <td>70.12</td>\n",
       "    </tr>\n",
       "    <tr>\n",
       "      <th>8</th>\n",
       "      <td>69.38</td>\n",
       "      <td>70.08</td>\n",
       "    </tr>\n",
       "    <tr>\n",
       "      <th>9</th>\n",
       "      <td>69.35</td>\n",
       "      <td>70.15</td>\n",
       "    </tr>\n",
       "    <tr>\n",
       "      <th>10</th>\n",
       "      <td>69.42</td>\n",
       "      <td>70.16</td>\n",
       "    </tr>\n",
       "    <tr>\n",
       "      <th>11</th>\n",
       "      <td>69.40</td>\n",
       "      <td>70.20</td>\n",
       "    </tr>\n",
       "    <tr>\n",
       "      <th>12</th>\n",
       "      <td>69.45</td>\n",
       "      <td>70.18</td>\n",
       "    </tr>\n",
       "    <tr>\n",
       "      <th>13</th>\n",
       "      <td>69.38</td>\n",
       "      <td>70.20</td>\n",
       "    </tr>\n",
       "    <tr>\n",
       "      <th>14</th>\n",
       "      <td>69.40</td>\n",
       "      <td>70.16</td>\n",
       "    </tr>\n",
       "    <tr>\n",
       "      <th>15</th>\n",
       "      <td>69.40</td>\n",
       "      <td>70.20</td>\n",
       "    </tr>\n",
       "    <tr>\n",
       "      <th>16</th>\n",
       "      <td>69.38</td>\n",
       "      <td>70.22</td>\n",
       "    </tr>\n",
       "    <tr>\n",
       "      <th>17</th>\n",
       "      <td>69.34</td>\n",
       "      <td>70.10</td>\n",
       "    </tr>\n",
       "    <tr>\n",
       "      <th>18</th>\n",
       "      <td>69.35</td>\n",
       "      <td>70.12</td>\n",
       "    </tr>\n",
       "    <tr>\n",
       "      <th>19</th>\n",
       "      <td>69.38</td>\n",
       "      <td>70.18</td>\n",
       "    </tr>\n",
       "    <tr>\n",
       "      <th>20</th>\n",
       "      <td>69.35</td>\n",
       "      <td>70.20</td>\n",
       "    </tr>\n",
       "    <tr>\n",
       "      <th>21</th>\n",
       "      <td>69.31</td>\n",
       "      <td>70.15</td>\n",
       "    </tr>\n",
       "    <tr>\n",
       "      <th>22</th>\n",
       "      <td>69.38</td>\n",
       "      <td>70.20</td>\n",
       "    </tr>\n",
       "    <tr>\n",
       "      <th>23</th>\n",
       "      <td>69.40</td>\n",
       "      <td>70.15</td>\n",
       "    </tr>\n",
       "    <tr>\n",
       "      <th>24</th>\n",
       "      <td>69.35</td>\n",
       "      <td>70.12</td>\n",
       "    </tr>\n",
       "    <tr>\n",
       "      <th>25</th>\n",
       "      <td>69.34</td>\n",
       "      <td>70.15</td>\n",
       "    </tr>\n",
       "    <tr>\n",
       "      <th>26</th>\n",
       "      <td>69.27</td>\n",
       "      <td>70.12</td>\n",
       "    </tr>\n",
       "    <tr>\n",
       "      <th>27</th>\n",
       "      <td>69.31</td>\n",
       "      <td>70.12</td>\n",
       "    </tr>\n",
       "    <tr>\n",
       "      <th>28</th>\n",
       "      <td>69.34</td>\n",
       "      <td>70.18</td>\n",
       "    </tr>\n",
       "    <tr>\n",
       "      <th>29</th>\n",
       "      <td>69.35</td>\n",
       "      <td>70.16</td>\n",
       "    </tr>\n",
       "  </tbody>\n",
       "</table>\n",
       "</div>"
      ],
      "text/plain": [
       "    K-type TC, °C  T-type TC, °C\n",
       "0           69.38          70.06\n",
       "1           69.34          70.05\n",
       "2           69.31          70.08\n",
       "3           69.34          70.10\n",
       "4           69.35          70.10\n",
       "5           69.31          70.06\n",
       "6           69.35          70.12\n",
       "7           69.37          70.12\n",
       "8           69.38          70.08\n",
       "9           69.35          70.15\n",
       "10          69.42          70.16\n",
       "11          69.40          70.20\n",
       "12          69.45          70.18\n",
       "13          69.38          70.20\n",
       "14          69.40          70.16\n",
       "15          69.40          70.20\n",
       "16          69.38          70.22\n",
       "17          69.34          70.10\n",
       "18          69.35          70.12\n",
       "19          69.38          70.18\n",
       "20          69.35          70.20\n",
       "21          69.31          70.15\n",
       "22          69.38          70.20\n",
       "23          69.40          70.15\n",
       "24          69.35          70.12\n",
       "25          69.34          70.15\n",
       "26          69.27          70.12\n",
       "27          69.31          70.12\n",
       "28          69.34          70.18\n",
       "29          69.35          70.16"
      ]
     },
     "execution_count": 69,
     "metadata": {},
     "output_type": "execute_result"
    }
   ],
   "source": [
    "temp_table"
   ]
  },
  {
   "cell_type": "markdown",
   "metadata": {},
   "source": [
    "Now I frankly don't know where to start so I googled \"how to plot with python\". First result came up was http://matplotlib.org/users/pyplot_tutorial.html. I'm just gonna plug in what the first box says."
   ]
  },
  {
   "cell_type": "code",
   "execution_count": 70,
   "metadata": {
    "collapsed": true
   },
   "outputs": [],
   "source": [
    "import matplotlib.pyplot as plt\n",
    "plt.plot([1,2,3,4])\n",
    "plt.ylabel('some numbers')\n",
    "plt.show()"
   ]
  },
  {
   "cell_type": "markdown",
   "metadata": {},
   "source": [
    "Now what if I don't want the figure to come up every time? Is there a way for Jupyter notebook to display the images within the notebook I'm working on?\n",
    "\n",
    "**Yes** there is."
   ]
  },
  {
   "cell_type": "code",
   "execution_count": 71,
   "metadata": {
    "collapsed": true
   },
   "outputs": [],
   "source": [
    "%matplotlib inline"
   ]
  },
  {
   "cell_type": "markdown",
   "metadata": {},
   "source": [
    "Now I'm going to run that again and see what happens."
   ]
  },
  {
   "cell_type": "code",
   "execution_count": 72,
   "metadata": {
    "collapsed": false
   },
   "outputs": [
    {
     "data": {
      "image/png": "[encoded data removed]",
      "text/plain": [
       "<matplotlib.figure.Figure at 0x1e70eb9d4e0>"
      ]
     },
     "metadata": {},
     "output_type": "display_data"
    }
   ],
   "source": [
    "import matplotlib.pyplot as plt\n",
    "plt.plot([1,2,3,4])\n",
    "plt.ylabel('some numbers')\n",
    "plt.show()"
   ]
  },
  {
   "cell_type": "markdown",
   "metadata": {},
   "source": [
    "Perfect! Let's try now to plot our data."
   ]
  },
  {
   "cell_type": "code",
   "execution_count": 74,
   "metadata": {
    "collapsed": false
   },
   "outputs": [
    {
     "data": {
      "image/png": "[encoded data removed]",
      "text/plain": [
       "<matplotlib.figure.Figure at 0x1e70e216e80>"
      ]
     },
     "metadata": {},
     "output_type": "display_data"
    }
   ],
   "source": [
    "# no need for the import statement again because it's already imported\n",
    "plt.plot(temp_table['K-type TC, °C'])\n",
    "plt.ylabel('some numbers')\n",
    "plt.show()"
   ]
  },
  {
   "cell_type": "markdown",
   "metadata": {},
   "source": [
    "But now I also want the other column in the same plot! No problem. Just add another line."
   ]
  },
  {
   "cell_type": "code",
   "execution_count": 75,
   "metadata": {
    "collapsed": false
   },
   "outputs": [
    {
     "data": {
      "image/png": "[encoded data removed]",
      "text/plain": [
       "<matplotlib.figure.Figure at 0x1e70fba7d68>"
      ]
     },
     "metadata": {},
     "output_type": "display_data"
    }
   ],
   "source": [
    "plt.plot(temp_table['K-type TC, °C'])\n",
    "plt.plot(temp_table['T-type TC, °C'])\n",
    "plt.ylabel('some numbers')\n",
    "plt.show()"
   ]
  },
  {
   "cell_type": "markdown",
   "metadata": {},
   "source": [
    "Awesome! Now I want to add in the title for the x-axis, y-axis, figure, label, and legend."
   ]
  },
  {
   "cell_type": "code",
   "execution_count": 81,
   "metadata": {
    "collapsed": false
   },
   "outputs": [
    {
     "data": {
      "image/png": "[encoded data removed]",
      "text/plain": [
       "<matplotlib.figure.Figure at 0x1e70e05fb38>"
      ]
     },
     "metadata": {},
     "output_type": "display_data"
    }
   ],
   "source": [
    "plt.plot(temp_table['K-type TC, °C'])\n",
    "plt.plot(temp_table['T-type TC, °C'])\n",
    "plt.ylabel('Temperature, °C')\n",
    "plt.xlabel('Index')\n",
    "plt.title('Temperature vs. Index')\n",
    "plt.legend()\n",
    "plt.show()"
   ]
  },
  {
   "cell_type": "markdown",
   "metadata": {},
   "source": [
    "Sounds great! Now let's go a little bit further and decorate our plots. With some googling, \"matplotlib change line styles\" gave me http://matplotlib.org/examples/lines_bars_and_markers/line_styles_reference.html"
   ]
  },
  {
   "cell_type": "code",
   "execution_count": 93,
   "metadata": {
    "collapsed": false
   },
   "outputs": [
    {
     "data": {
      "image/png": "[encoded data removed]",
      "text/plain": [
       "<matplotlib.figure.Figure at 0x1e70e22aac8>"
      ]
     },
     "metadata": {},
     "output_type": "display_data"
    }
   ],
   "source": [
    "plt.plot(temp_table['K-type TC, °C'],'-.',color='r',linewidth=3)\n",
    "plt.plot(temp_table['T-type TC, °C'],'o-',color='c')\n",
    "plt.ylabel('Temperature, °C')\n",
    "plt.xlabel('Index')\n",
    "plt.title('Temperature vs. Index')\n",
    "plt.legend()\n",
    "plt.show()"
   ]
  },
  {
   "cell_type": "markdown",
   "metadata": {},
   "source": [
    "Awesome. Let's say we have to plot the same thing over and over again for 10 different columns. That's going to be very annoying to do in Excel. So let's see if we can write up some function and \"automate\" this for us. I'm going to copy&paste all the code above and put it in a function."
   ]
  },
  {
   "cell_type": "code",
   "execution_count": 94,
   "metadata": {
    "collapsed": true
   },
   "outputs": [],
   "source": [
    "def plotMyData(x,y):\n",
    "    plt.plot(x, y,'-.',color='r',linewidth=3)\n",
    "    plt.xlabel(x.name)\n",
    "    plt.ylabel(y.name)\n",
    "    plt.title(y.name + \" vs. \" + x.name)\n",
    "    plt.legend()\n",
    "    plt.show()"
   ]
  },
  {
   "cell_type": "markdown",
   "metadata": {},
   "source": [
    "Now I'm going plot several columns in the liquid_flow_table (because there are many columns). Again, let's take a look at the table again."
   ]
  },
  {
   "cell_type": "code",
   "execution_count": 96,
   "metadata": {
    "collapsed": false
   },
   "outputs": [
    {
     "data": {
      "text/html": [
       "<div>\n",
       "<table border=\"1\" class=\"dataframe\">\n",
       "  <thead>\n",
       "    <tr style=\"text-align: right;\">\n",
       "      <th></th>\n",
       "      <th>Primary</th>\n",
       "      <th>Ultrasonic</th>\n",
       "      <th>mySum</th>\n",
       "      <th>myMultiplication</th>\n",
       "      <th>myPower</th>\n",
       "      <th>CumulativeSum</th>\n",
       "      <th>myDivision</th>\n",
       "    </tr>\n",
       "  </thead>\n",
       "  <tbody>\n",
       "    <tr>\n",
       "      <th>8</th>\n",
       "      <td>18.19</td>\n",
       "      <td>17.45</td>\n",
       "      <td>35.64</td>\n",
       "      <td>317.4155</td>\n",
       "      <td>9.640079e+21</td>\n",
       "      <td>362.02</td>\n",
       "      <td>0.953462</td>\n",
       "    </tr>\n",
       "    <tr>\n",
       "      <th>9</th>\n",
       "      <td>18.19</td>\n",
       "      <td>17.67</td>\n",
       "      <td>35.86</td>\n",
       "      <td>321.4173</td>\n",
       "      <td>1.824920e+22</td>\n",
       "      <td>379.69</td>\n",
       "      <td>1.000000</td>\n",
       "    </tr>\n",
       "    <tr>\n",
       "      <th>6</th>\n",
       "      <td>28.55</td>\n",
       "      <td>27.23</td>\n",
       "      <td>55.78</td>\n",
       "      <td>777.4165</td>\n",
       "      <td>4.326677e+39</td>\n",
       "      <td>316.80</td>\n",
       "      <td>0.834365</td>\n",
       "    </tr>\n",
       "    <tr>\n",
       "      <th>7</th>\n",
       "      <td>28.55</td>\n",
       "      <td>27.77</td>\n",
       "      <td>56.32</td>\n",
       "      <td>792.8335</td>\n",
       "      <td>2.643515e+40</td>\n",
       "      <td>344.57</td>\n",
       "      <td>0.907503</td>\n",
       "    </tr>\n",
       "    <tr>\n",
       "      <th>4</th>\n",
       "      <td>39.62</td>\n",
       "      <td>38.02</td>\n",
       "      <td>77.64</td>\n",
       "      <td>1506.3524</td>\n",
       "      <td>5.658590e+60</td>\n",
       "      <td>251.10</td>\n",
       "      <td>0.661329</td>\n",
       "    </tr>\n",
       "  </tbody>\n",
       "</table>\n",
       "</div>"
      ],
      "text/plain": [
       "   Primary  Ultrasonic  mySum  myMultiplication       myPower  CumulativeSum  \\\n",
       "8    18.19       17.45  35.64          317.4155  9.640079e+21         362.02   \n",
       "9    18.19       17.67  35.86          321.4173  1.824920e+22         379.69   \n",
       "6    28.55       27.23  55.78          777.4165  4.326677e+39         316.80   \n",
       "7    28.55       27.77  56.32          792.8335  2.643515e+40         344.57   \n",
       "4    39.62       38.02  77.64         1506.3524  5.658590e+60         251.10   \n",
       "\n",
       "   myDivision  \n",
       "8    0.953462  \n",
       "9    1.000000  \n",
       "6    0.834365  \n",
       "7    0.907503  \n",
       "4    0.661329  "
      ]
     },
     "execution_count": 96,
     "metadata": {},
     "output_type": "execute_result"
    }
   ],
   "source": [
    "liquid_flow_table.head()"
   ]
  },
  {
   "cell_type": "code",
   "execution_count": 99,
   "metadata": {
    "collapsed": false
   },
   "outputs": [
    {
     "data": {
      "image/png": "[encoded data removed]",
      "text/plain": [
       "<matplotlib.figure.Figure at 0x1e70e7f05c0>"
      ]
     },
     "metadata": {},
     "output_type": "display_data"
    }
   ],
   "source": [
    "plotMyData(liquid_flow_table.Primary,liquid_flow_table.mySum)"
   ]
  },
  {
   "cell_type": "code",
   "execution_count": 100,
   "metadata": {
    "collapsed": false
   },
   "outputs": [
    {
     "data": {
      "image/png": "[encoded data removed]",
      "text/plain": [
       "<matplotlib.figure.Figure at 0x1e70e7bef28>"
      ]
     },
     "metadata": {},
     "output_type": "display_data"
    }
   ],
   "source": [
    "plotMyData(liquid_flow_table.Primary,liquid_flow_table.myMultiplication)"
   ]
  },
  {
   "cell_type": "code",
   "execution_count": 101,
   "metadata": {
    "collapsed": false
   },
   "outputs": [
    {
     "data": {
      "image/png": "[encoded data removed]",
      "text/plain": [
       "<matplotlib.figure.Figure at 0x1e70fe347b8>"
      ]
     },
     "metadata": {},
     "output_type": "display_data"
    }
   ],
   "source": [
    "plotMyData(liquid_flow_table.Primary,liquid_flow_table.myPower)"
   ]
  },
  {
   "cell_type": "code",
   "execution_count": 102,
   "metadata": {
    "collapsed": false
   },
   "outputs": [
    {
     "data": {
      "image/png": "[encoded data removed]",
      "text/plain": [
       "<matplotlib.figure.Figure at 0x1e70fe57b00>"
      ]
     },
     "metadata": {},
     "output_type": "display_data"
    }
   ],
   "source": [
    "plotMyData(liquid_flow_table.Primary,liquid_flow_table.CumulativeSum)b"
   ]
  },
  {
   "cell_type": "code",
   "execution_count": 103,
   "metadata": {
    "collapsed": false
   },
   "outputs": [
    {
     "data": {
      "image/png": "[encoded data removed]",
      "text/plain": [
       "<matplotlib.figure.Figure at 0x1e70fe10f60>"
      ]
     },
     "metadata": {},
     "output_type": "display_data"
    }
   ],
   "source": [
    "plotMyData(liquid_flow_table.Primary,liquid_flow_table.myDivision)"
   ]
  },
  {
   "cell_type": "markdown",
   "metadata": {},
   "source": [
    "So 5 different plots, all in 5 lines! Imagine doing this in Excel! And in fact, programming is so awesome you can in fact not even have to copy&paste and do all that work."
   ]
  },
  {
   "cell_type": "code",
   "execution_count": 104,
   "metadata": {
    "collapsed": false
   },
   "outputs": [
    {
     "data": {
      "text/plain": [
       "['Primary',\n",
       " 'Ultrasonic',\n",
       " 'mySum',\n",
       " 'myMultiplication',\n",
       " 'myPower',\n",
       " 'CumulativeSum',\n",
       " 'myDivision']"
      ]
     },
     "execution_count": 104,
     "metadata": {},
     "output_type": "execute_result"
    }
   ],
   "source": [
    "liquid_table_columns_list = list(liquid_flow_table.columns.values)\n",
    "liquid_table_columns_list"
   ]
  },
  {
   "cell_type": "code",
   "execution_count": 106,
   "metadata": {
    "collapsed": false
   },
   "outputs": [
    {
     "data": {
      "image/png": "[encoded data removed]",
      "text/plain": [
       "<matplotlib.figure.Figure at 0x1e70e7b55f8>"
      ]
     },
     "metadata": {},
     "output_type": "display_data"
    },
    {
     "data": {
      "image/png": "[encoded data removed]",
      "text/plain": [
       "<matplotlib.figure.Figure at 0x1e70fe8b5c0>"
      ]
     },
     "metadata": {},
     "output_type": "display_data"
    },
    {
     "data": {
      "image/png": "[encoded data removed]",
      "text/plain": [
       "<matplotlib.figure.Figure at 0x1e70dc18518>"
      ]
     },
     "metadata": {},
     "output_type": "display_data"
    },
    {
     "data": {
      "image/png": "[encoded data removed]",
      "text/plain": [
       "<matplotlib.figure.Figure at 0x1e70e8cbac8>"
      ]
     },
     "metadata": {},
     "output_type": "display_data"
    },
    {
     "data": {
      "image/png": "[encoded data removed]",
      "text/plain": [
       "<matplotlib.figure.Figure at 0x1e70dc024e0>"
      ]
     },
     "metadata": {},
     "output_type": "display_data"
    },
    {
     "data": {
      "image/png": "[encoded data removed]",
      "text/plain": [
       "<matplotlib.figure.Figure at 0x1e70e23cba8>"
      ]
     },
     "metadata": {},
     "output_type": "display_data"
    },
    {
     "data": {
      "image/png": "[encoded data removed]",
      "text/plain": [
       "<matplotlib.figure.Figure at 0x1e70e7a65c0>"
      ]
     },
     "metadata": {},
     "output_type": "display_data"
    }
   ],
   "source": [
    "for column in liquid_table_columns_list:\n",
    "    plotMyData(liquid_flow_table.Primary, liquid_flow_table[column])b"
   ]
  },
  {
   "cell_type": "markdown",
   "metadata": {},
   "source": [
    "So if you're not still sold over this, I don't know what will :)"
   ]
  },
  {
   "cell_type": "markdown",
   "metadata": {},
   "source": [
    "If we have time, let's open our GASISData. If you open it in excel, you can see that it's a huge table. About 19220 rows and maybe 60 columns. Let's read the file in and see how pandas handle it.\n",
    "\n",
    "I'm going to use something that's specific to Jupyter Notebook to time how long it reads in the data."
   ]
  },
  {
   "cell_type": "code",
   "execution_count": 110,
   "metadata": {
    "collapsed": false
   },
   "outputs": [
    {
     "name": "stderr",
     "output_type": "stream",
     "text": [
      "C:\\Anaconda3\\lib\\site-packages\\IPython\\core\\magic.py:193: DtypeWarning: Columns (23,24,27,28,29,51,52,61,126,135,136,141,142,143,145,146) have mixed types. Specify dtype option on import or set low_memory=False.\n",
      "  call = lambda f, *a, **k: f(*a, **k)\n",
      "C:\\Anaconda3\\lib\\site-packages\\IPython\\core\\magics\\execution.py:1046: DtypeWarning: Columns (23,24,27,28,29,51,52,61,126,135,136,141,142,143,145,146) have mixed types. Specify dtype option on import or set low_memory=False.\n",
      "  all_runs = timer.repeat(repeat, number)\n"
     ]
    },
    {
     "name": "stdout",
     "output_type": "stream",
     "text": [
      "1 loop, best of 3: 664 ms per loop\n"
     ]
    }
   ],
   "source": [
    "%%timeit\n",
    "xls = pd.read_csv(r'C:\\Users\\jenng\\Documents\\texaspse-blog\\media\\f16-scientific-python\\week2\\GASISData.csv')"
   ]
  },
  {
   "cell_type": "markdown",
   "metadata": {},
   "source": [
    "So took about 664 ms per loop to read that in. That's pretty cool!"
   ]
  }
 ],
 "metadata": {
  "anaconda-cloud": {},
  "kernelspec": {
   "display_name": "Python [Root]",
   "language": "python",
   "name": "Python [Root]"
  },
  "language_info": {
   "codemirror_mode": {
    "name": "ipython",
    "version": 3
   },
   "file_extension": ".py",
   "mimetype": "text/x-python",
   "name": "python",
   "nbconvert_exporter": "python",
   "pygments_lexer": "ipython3",
   "version": "3.5.2"
  }
 },
 "nbformat": 4,
 "nbformat_minor": 0
}
