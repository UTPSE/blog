{
 "cells": [
  {
   "cell_type": "code",
   "execution_count": 3,
   "metadata": {
    "collapsed": true
   },
   "outputs": [],
   "source": [
    "import numpy as np\n",
    "import pandas as pd\n",
    "import matplotlib.pyplot as plt\n",
    "%matplotlib inline"
   ]
  },
  {
   "cell_type": "markdown",
   "metadata": {},
   "source": [
    "# Review\n",
    "Before we start let's do some quick review from last time. \n",
    "\n",
    "1. Let's create a new numpy arrray. Fill it with any values you want.\n",
    "2. Let's say I want to calculate the average between the 1st and 2nd values, 2nd and 3rd value, and so on. How should I do it?"
   ]
  },
  {
   "cell_type": "markdown",
   "metadata": {},
   "source": [
    "### Creating a new numpy arrray"
   ]
  },
  {
   "cell_type": "code",
   "execution_count": 4,
   "metadata": {
    "collapsed": false
   },
   "outputs": [
    {
     "data": {
      "text/plain": [
       "array([       1,        3,        5,        5,        6,        6,\n",
       "              7,       10, 23123123,    31232])"
      ]
     },
     "execution_count": 4,
     "metadata": {},
     "output_type": "execute_result"
    }
   ],
   "source": [
    "k = np.array([1,3,5,5,6,6,7,10,23123123,31232]) # create a new array\n",
    "k "
   ]
  },
  {
   "cell_type": "code",
   "execution_count": 161,
   "metadata": {
    "collapsed": false
   },
   "outputs": [
    {
     "data": {
      "text/plain": [
       "3"
      ]
     },
     "execution_count": 161,
     "metadata": {},
     "output_type": "execute_result"
    }
   ],
   "source": [
    "k[1]"
   ]
  },
  {
   "cell_type": "code",
   "execution_count": 162,
   "metadata": {
    "collapsed": false
   },
   "outputs": [
    {
     "data": {
      "text/plain": [
       "1"
      ]
     },
     "execution_count": 162,
     "metadata": {},
     "output_type": "execute_result"
    }
   ],
   "source": [
    "k[0]"
   ]
  },
  {
   "cell_type": "code",
   "execution_count": 163,
   "metadata": {
    "collapsed": false
   },
   "outputs": [
    {
     "data": {
      "text/plain": [
       "6"
      ]
     },
     "execution_count": 163,
     "metadata": {},
     "output_type": "execute_result"
    }
   ],
   "source": [
    "k[4]"
   ]
  },
  {
   "cell_type": "code",
   "execution_count": 171,
   "metadata": {
    "collapsed": false
   },
   "outputs": [
    {
     "ename": "IndexError",
     "evalue": "index 10 is out of bounds for axis 0 with size 10",
     "output_type": "error",
     "traceback": [
      "\u001b[1;31m---------------------------------------------------------------------------\u001b[0m",
      "\u001b[1;31mIndexError\u001b[0m                                Traceback (most recent call last)",
      "\u001b[1;32m<ipython-input-171-c20ee5804602>\u001b[0m in \u001b[0;36m<module>\u001b[1;34m()\u001b[0m\n\u001b[1;32m----> 1\u001b[1;33m \u001b[0mk\u001b[0m\u001b[1;33m[\u001b[0m\u001b[1;36m10\u001b[0m\u001b[1;33m]\u001b[0m \u001b[1;31m# even though the list has 9 items, the index actually goes from 0 to 9\u001b[0m\u001b[1;33m\u001b[0m\u001b[0m\n\u001b[0m",
      "\u001b[1;31mIndexError\u001b[0m: index 10 is out of bounds for axis 0 with size 10"
     ]
    }
   ],
   "source": [
    "k[10] # even though the list has 9 items, the index actually goes from 0 to 9"
   ]
  },
  {
   "cell_type": "code",
   "execution_count": 165,
   "metadata": {
    "collapsed": false
   },
   "outputs": [
    {
     "data": {
      "text/plain": [
       "31232"
      ]
     },
     "execution_count": 165,
     "metadata": {},
     "output_type": "execute_result"
    }
   ],
   "source": [
    "k[9]"
   ]
  },
  {
   "cell_type": "markdown",
   "metadata": {},
   "source": [
    "So what happens if you want to access the last value but don't know how many items are there in the array?"
   ]
  },
  {
   "cell_type": "code",
   "execution_count": 172,
   "metadata": {
    "collapsed": false
   },
   "outputs": [
    {
     "data": {
      "text/plain": [
       "10"
      ]
     },
     "execution_count": 172,
     "metadata": {},
     "output_type": "execute_result"
    }
   ],
   "source": [
    "k.size # the length of the list/vector is still and always be 10"
   ]
  },
  {
   "cell_type": "code",
   "execution_count": 173,
   "metadata": {
    "collapsed": false
   },
   "outputs": [
    {
     "ename": "IndexError",
     "evalue": "index 10 is out of bounds for axis 0 with size 10",
     "output_type": "error",
     "traceback": [
      "\u001b[1;31m---------------------------------------------------------------------------\u001b[0m",
      "\u001b[1;31mIndexError\u001b[0m                                Traceback (most recent call last)",
      "\u001b[1;32m<ipython-input-173-860b0d4aae17>\u001b[0m in \u001b[0;36m<module>\u001b[1;34m()\u001b[0m\n\u001b[1;32m----> 1\u001b[1;33m \u001b[0mk\u001b[0m\u001b[1;33m[\u001b[0m\u001b[0mk\u001b[0m\u001b[1;33m.\u001b[0m\u001b[0msize\u001b[0m\u001b[1;33m]\u001b[0m \u001b[1;31m# again, index starts at 0!\u001b[0m\u001b[1;33m\u001b[0m\u001b[0m\n\u001b[0m",
      "\u001b[1;31mIndexError\u001b[0m: index 10 is out of bounds for axis 0 with size 10"
     ]
    }
   ],
   "source": [
    "k[k.size] # again, index starts at 0!"
   ]
  },
  {
   "cell_type": "code",
   "execution_count": 174,
   "metadata": {
    "collapsed": false
   },
   "outputs": [
    {
     "data": {
      "text/plain": [
       "31232"
      ]
     },
     "execution_count": 174,
     "metadata": {},
     "output_type": "execute_result"
    }
   ],
   "source": [
    "k[k.size-1] # yay"
   ]
  },
  {
   "cell_type": "markdown",
   "metadata": {},
   "source": [
    "Alternatively, we can also write k[-1] to access the last value."
   ]
  },
  {
   "cell_type": "code",
   "execution_count": 170,
   "metadata": {
    "collapsed": false
   },
   "outputs": [
    {
     "data": {
      "text/plain": [
       "31232"
      ]
     },
     "execution_count": 170,
     "metadata": {},
     "output_type": "execute_result"
    }
   ],
   "source": [
    "k[-1]"
   ]
  },
  {
   "cell_type": "code",
   "execution_count": 176,
   "metadata": {
    "collapsed": false
   },
   "outputs": [
    {
     "data": {
      "text/plain": [
       "10"
      ]
     },
     "execution_count": 176,
     "metadata": {},
     "output_type": "execute_result"
    }
   ],
   "source": [
    "k[-3]"
   ]
  },
  {
   "cell_type": "code",
   "execution_count": 159,
   "metadata": {
    "collapsed": false
   },
   "outputs": [
    {
     "name": "stdout",
     "output_type": "stream",
     "text": [
      "[       5        6        6        7       10 23123123    31232]\n",
      "[1 3 5 5 6 6]\n",
      "[       3        5        5        6        6        7       10 23123123\n",
      "    31232]\n",
      "[       1        3        5        5        6        6        7       10\n",
      " 23123123]\n"
     ]
    }
   ],
   "source": [
    "print(k[3:])\n",
    "print(k[:-4])\n",
    "print(k[1:])\n",
    "print(k[:-1])"
   ]
  },
  {
   "cell_type": "markdown",
   "metadata": {},
   "source": [
    "### Geometric Mean (Average)"
   ]
  },
  {
   "cell_type": "markdown",
   "metadata": {},
   "source": [
    "Let's say I want to calculate the average between the 1st and 2nd values, 2nd and 3rd value, and so on. How should I do it?"
   ]
  },
  {
   "cell_type": "code",
   "execution_count": 153,
   "metadata": {
    "collapsed": false
   },
   "outputs": [
    {
     "name": "stdout",
     "output_type": "stream",
     "text": [
      "[       1        3        5        5        6        6        7       10\n",
      " 23123123    31232]\n",
      "[       3        5        5        6        6        7       10 23123123\n",
      "    31232]\n",
      "[       1        3        5        5        6        6        7       10\n",
      " 23123123]\n"
     ]
    }
   ],
   "source": [
    "print(k)\n",
    "print(k[1:])\n",
    "print(k[:-1])"
   ]
  },
  {
   "cell_type": "code",
   "execution_count": 135,
   "metadata": {
    "collapsed": false
   },
   "outputs": [
    {
     "data": {
      "text/plain": [
       "array([  2.00000000e+00,   4.00000000e+00,   5.00000000e+00,\n",
       "         5.50000000e+00,   6.00000000e+00,   6.50000000e+00,\n",
       "         8.50000000e+00,   1.15615665e+07,   1.15771775e+07])"
      ]
     },
     "execution_count": 135,
     "metadata": {},
     "output_type": "execute_result"
    }
   ],
   "source": [
    "average_k = (k[1:]+k[:-1])/2\n",
    "average"
   ]
  },
  {
   "cell_type": "markdown",
   "metadata": {},
   "source": [
    "To calculate the average of the whole vector, of course, add all the numbers up and divide by the number of values. "
   ]
  },
  {
   "cell_type": "code",
   "execution_count": 149,
   "metadata": {
    "collapsed": false
   },
   "outputs": [
    {
     "data": {
      "text/plain": [
       "10"
      ]
     },
     "execution_count": 149,
     "metadata": {},
     "output_type": "execute_result"
    }
   ],
   "source": [
    "k_sum = np.sum(k) # add all numbers up\n",
    "k.size\n",
    "#k_sum/k.size # divide by total number of values"
   ]
  },
  {
   "cell_type": "code",
   "execution_count": 142,
   "metadata": {
    "collapsed": false
   },
   "outputs": [
    {
     "data": {
      "text/plain": [
       "2315439.7999999998"
      ]
     },
     "execution_count": 142,
     "metadata": {},
     "output_type": "execute_result"
    }
   ],
   "source": [
    "np.mean(k) # verify with numpy's own function"
   ]
  },
  {
   "cell_type": "markdown",
   "metadata": {},
   "source": [
    "### Harmonic Mean\n"
   ]
  },
  {
   "cell_type": "markdown",
   "metadata": {},
   "source": [
    "Let's say I want to harmonic mean between the 1st and 2nd values, 2nd and 3rd value, and so on. The formula is:\n",
    "\n",
    "$$H = 2 (\\frac{1}{k_i} + \\frac{1}{k_{i+1}})^{-1}$$\n",
    "\n",
    "And for the whole vector, it would be . . .\n",
    "![](https://wikimedia.org/api/rest_v1/media/math/render/svg/753130a05a1fab890e5785924b5bdbb5f97c8b6a)"
   ]
  },
  {
   "cell_type": "code",
   "execution_count": 139,
   "metadata": {
    "collapsed": false
   },
   "outputs": [
    {
     "data": {
      "text/plain": [
       "array([  1.50000000e+00,   3.75000000e+00,   5.00000000e+00,\n",
       "         5.45454545e+00,   6.00000000e+00,   6.46153846e+00,\n",
       "         8.23529412e+00,   1.99999914e+01,   6.23797448e+04])"
      ]
     },
     "execution_count": 139,
     "metadata": {},
     "output_type": "execute_result"
    }
   ],
   "source": [
    "harmonic_mean_k = 2*(1/k[:-1] + 1/k[1:])**-1\n",
    "harmonic_mean_k"
   ]
  },
  {
   "cell_type": "code",
   "execution_count": 14,
   "metadata": {
    "collapsed": false
   },
   "outputs": [
    {
     "name": "stdout",
     "output_type": "stream",
     "text": [
      "ki\n",
      "[       1        3        5        5        6        6        7       10\n",
      " 23123123    31232]\n",
      "\n",
      "1/ki\n",
      "[  1.00000000e+00   3.33333333e-01   2.00000000e-01   2.00000000e-01\n",
      "   1.66666667e-01   1.66666667e-01   1.42857143e-01   1.00000000e-01\n",
      "   4.32467535e-08   3.20184426e-05]\n",
      "\n",
      "Sum of all 1/ki\n",
      "2.30955587121\n",
      "\n",
      "size/ (Sum of all 1/ki)\n"
     ]
    },
    {
     "data": {
      "text/plain": [
       "4.3298367987725292"
      ]
     },
     "execution_count": 14,
     "metadata": {},
     "output_type": "execute_result"
    }
   ],
   "source": [
    "print(\"ki\")\n",
    "print(k)\n",
    "print()\n",
    "print(\"1/ki\")\n",
    "print(1/k)\n",
    "print()\n",
    "print(\"Sum of all 1/ki\")\n",
    "print(sum(1/k))\n",
    "print()\n",
    "print(\"size/ (Sum of all 1/ki)\")\n",
    "k.size / np.sum(1.0/k) \n"
   ]
  },
  {
   "cell_type": "markdown",
   "metadata": {},
   "source": [
    "## Plotting sin(x) vs. x"
   ]
  },
  {
   "cell_type": "code",
   "execution_count": 184,
   "metadata": {
    "collapsed": false
   },
   "outputs": [
    {
     "name": "stdout",
     "output_type": "stream",
     "text": [
      "[ 0.          0.06346652  0.12693304  0.19039955  0.25386607  0.31733259\n",
      "  0.38079911  0.44426563  0.50773215  0.57119866  0.63466518  0.6981317\n",
      "  0.76159822  0.82506474  0.88853126  0.95199777  1.01546429  1.07893081\n",
      "  1.14239733  1.20586385  1.26933037  1.33279688  1.3962634   1.45972992\n",
      "  1.52319644  1.58666296  1.65012947  1.71359599  1.77706251  1.84052903\n",
      "  1.90399555  1.96746207  2.03092858  2.0943951   2.15786162  2.22132814\n",
      "  2.28479466  2.34826118  2.41172769  2.47519421  2.53866073  2.60212725\n",
      "  2.66559377  2.72906028  2.7925268   2.85599332  2.91945984  2.98292636\n",
      "  3.04639288  3.10985939  3.17332591  3.23679243  3.30025895  3.36372547\n",
      "  3.42719199  3.4906585   3.55412502  3.61759154  3.68105806  3.74452458\n",
      "  3.8079911   3.87145761  3.93492413  3.99839065  4.06185717  4.12532369\n",
      "  4.1887902   4.25225672  4.31572324  4.37918976  4.44265628  4.5061228\n",
      "  4.56958931  4.63305583  4.69652235  4.75998887  4.82345539  4.88692191\n",
      "  4.95038842  5.01385494  5.07732146  5.14078798  5.2042545   5.26772102\n",
      "  5.33118753  5.39465405  5.45812057  5.52158709  5.58505361  5.64852012\n",
      "  5.71198664  5.77545316  5.83891968  5.9023862   5.96585272  6.02931923\n",
      "  6.09278575  6.15625227  6.21971879  6.28318531]\n",
      "[  0.00000000e+00   6.34239197e-02   1.26592454e-01   1.89251244e-01\n",
      "   2.51147987e-01   3.12033446e-01   3.71662456e-01   4.29794912e-01\n",
      "   4.86196736e-01   5.40640817e-01   5.92907929e-01   6.42787610e-01\n",
      "   6.90079011e-01   7.34591709e-01   7.76146464e-01   8.14575952e-01\n",
      "   8.49725430e-01   8.81453363e-01   9.09631995e-01   9.34147860e-01\n",
      "   9.54902241e-01   9.71811568e-01   9.84807753e-01   9.93838464e-01\n",
      "   9.98867339e-01   9.99874128e-01   9.96854776e-01   9.89821442e-01\n",
      "   9.78802446e-01   9.63842159e-01   9.45000819e-01   9.22354294e-01\n",
      "   8.95993774e-01   8.66025404e-01   8.32569855e-01   7.95761841e-01\n",
      "   7.55749574e-01   7.12694171e-01   6.66769001e-01   6.18158986e-01\n",
      "   5.67059864e-01   5.13677392e-01   4.58226522e-01   4.00930535e-01\n",
      "   3.42020143e-01   2.81732557e-01   2.20310533e-01   1.58001396e-01\n",
      "   9.50560433e-02   3.17279335e-02  -3.17279335e-02  -9.50560433e-02\n",
      "  -1.58001396e-01  -2.20310533e-01  -2.81732557e-01  -3.42020143e-01\n",
      "  -4.00930535e-01  -4.58226522e-01  -5.13677392e-01  -5.67059864e-01\n",
      "  -6.18158986e-01  -6.66769001e-01  -7.12694171e-01  -7.55749574e-01\n",
      "  -7.95761841e-01  -8.32569855e-01  -8.66025404e-01  -8.95993774e-01\n",
      "  -9.22354294e-01  -9.45000819e-01  -9.63842159e-01  -9.78802446e-01\n",
      "  -9.89821442e-01  -9.96854776e-01  -9.99874128e-01  -9.98867339e-01\n",
      "  -9.93838464e-01  -9.84807753e-01  -9.71811568e-01  -9.54902241e-01\n",
      "  -9.34147860e-01  -9.09631995e-01  -8.81453363e-01  -8.49725430e-01\n",
      "  -8.14575952e-01  -7.76146464e-01  -7.34591709e-01  -6.90079011e-01\n",
      "  -6.42787610e-01  -5.92907929e-01  -5.40640817e-01  -4.86196736e-01\n",
      "  -4.29794912e-01  -3.71662456e-01  -3.12033446e-01  -2.51147987e-01\n",
      "  -1.89251244e-01  -1.26592454e-01  -6.34239197e-02  -2.44929360e-16]\n"
     ]
    },
    {
     "data": {
      "image/png": "[encoded data removed]",
      "text/plain": [
       "<matplotlib.figure.Figure at 0x21038e6fbe0>"
      ]
     },
     "metadata": {},
     "output_type": "display_data"
    }
   ],
   "source": [
    "xs = np.linspace(0, 2*np.pi, 100)\n",
    "print(xs)\n",
    "ys = np.sin(xs) # np.sin is a universal function\n",
    "print(ys)\n",
    "plt.plot(xs, ys);"
   ]
  },
  {
   "cell_type": "code",
   "execution_count": 180,
   "metadata": {
    "collapsed": false
   },
   "outputs": [
    {
     "name": "stdout",
     "output_type": "stream",
     "text": [
      "[0 1 2 3 4 5 6 7 8 9]\n",
      "[ 0 -1 -2 -3 -4 -5 -6 -7 -8 -9]\n",
      "[ 0  2  4  6  8 10 12 14 16 18]\n",
      "[ 0  1  4  9 16 25 36 49 64 81]\n",
      "[  0   1   8  27  64 125 216 343 512 729]\n",
      "[ True  True  True  True  True False False False False False]\n"
     ]
    }
   ],
   "source": [
    "xs = np.arange(10)\n",
    "print (xs)\n",
    "print (-xs)\n",
    "print (xs+xs)\n",
    "\n",
    "print (xs*xs)\n",
    "print (xs**3)\n",
    "print (xs < 5)\n"
   ]
  },
  {
   "cell_type": "markdown",
   "metadata": {},
   "source": [
    "Let's read the GASISData.csv file"
   ]
  },
  {
   "cell_type": "code",
   "execution_count": 16,
   "metadata": {
    "collapsed": false
   },
   "outputs": [
    {
     "name": "stderr",
     "output_type": "stream",
     "text": [
      "C:\\Anaconda3\\lib\\site-packages\\IPython\\core\\interactiveshell.py:2723: DtypeWarning: Columns (23,24,27,28,29,51,52,61,126,135,136,141,142,143,145,146) have mixed types. Specify dtype option on import or set low_memory=False.\n",
      "  interactivity=interactivity, compiler=compiler, result=result)\n"
     ]
    }
   ],
   "source": [
    "data = pd.read_csv(r'C:\\Users\\jenng\\Documents\\texaspse-blog\\media\\f16-scientific-python\\week2\\GASISData.csv')"
   ]
  },
  {
   "cell_type": "code",
   "execution_count": 63,
   "metadata": {
    "collapsed": false
   },
   "outputs": [
    {
     "data": {
      "text/html": [
       "<div>\n",
       "<table border=\"1\" class=\"dataframe\">\n",
       "  <thead>\n",
       "    <tr style=\"text-align: right;\">\n",
       "      <th></th>\n",
       "      <th>LINKA</th>\n",
       "      <th>STATE</th>\n",
       "      <th>FLDNAME</th>\n",
       "      <th>RESNAME</th>\n",
       "      <th>R_STUDY</th>\n",
       "      <th>PLAYNAME</th>\n",
       "      <th>PLAYCOD</th>\n",
       "      <th>SUBPLAYN</th>\n",
       "      <th>SUBPLAY</th>\n",
       "      <th>DOEFLD</th>\n",
       "      <th>...</th>\n",
       "      <th>HELIUM</th>\n",
       "      <th>OTHER</th>\n",
       "      <th>HEAT</th>\n",
       "      <th>ATLASREG</th>\n",
       "      <th>RTYPEGOR</th>\n",
       "      <th>USGSPROV</th>\n",
       "      <th>USGSPLAY</th>\n",
       "      <th>S_USGSPL</th>\n",
       "      <th>PLAYDEPO</th>\n",
       "      <th>TYPELOGF</th>\n",
       "    </tr>\n",
       "  </thead>\n",
       "  <tbody>\n",
       "    <tr>\n",
       "      <th>0</th>\n",
       "      <td>1</td>\n",
       "      <td>ALABAMA</td>\n",
       "      <td>ALOE BAY</td>\n",
       "      <td>NORPHLET</td>\n",
       "      <td>A</td>\n",
       "      <td>UPPER JURASSIC AGGRADATIONAL SANDSTONE</td>\n",
       "      <td>UU A.1</td>\n",
       "      <td>NaN</td>\n",
       "      <td>NaN</td>\n",
       "      <td>14081.0</td>\n",
       "      <td>...</td>\n",
       "      <td>0.00</td>\n",
       "      <td>0.0</td>\n",
       "      <td>0</td>\n",
       "      <td>GM</td>\n",
       "      <td>G</td>\n",
       "      <td>NaN</td>\n",
       "      <td>NaN</td>\n",
       "      <td>NaN</td>\n",
       "      <td>NaN</td>\n",
       "      <td>NaN</td>\n",
       "    </tr>\n",
       "    <tr>\n",
       "      <th>1</th>\n",
       "      <td>2</td>\n",
       "      <td>ALABAMA</td>\n",
       "      <td>BEAVERTON</td>\n",
       "      <td>CARTER NE</td>\n",
       "      <td>R</td>\n",
       "      <td>PENNSYLVANIAN-MISSISSIPPIAN DELTAIC AND MARINE...</td>\n",
       "      <td>GCPN-MS-1</td>\n",
       "      <td>NaN</td>\n",
       "      <td>NaN</td>\n",
       "      <td>50317.0</td>\n",
       "      <td>...</td>\n",
       "      <td>0.07</td>\n",
       "      <td>0.0</td>\n",
       "      <td>1005</td>\n",
       "      <td>EG</td>\n",
       "      <td>G</td>\n",
       "      <td>65.0</td>\n",
       "      <td>6502.0</td>\n",
       "      <td>O</td>\n",
       "      <td>DELTA</td>\n",
       "      <td>AL000001</td>\n",
       "    </tr>\n",
       "    <tr>\n",
       "      <th>2</th>\n",
       "      <td>3</td>\n",
       "      <td>ALABAMA</td>\n",
       "      <td>BEAVERTON</td>\n",
       "      <td>CARTER SE</td>\n",
       "      <td>R</td>\n",
       "      <td>PENNSYLVANIAN-MISSISSIPPIAN DELTAIC AND MARINE...</td>\n",
       "      <td>GCPN-MS-1</td>\n",
       "      <td>NaN</td>\n",
       "      <td>NaN</td>\n",
       "      <td>50317.0</td>\n",
       "      <td>...</td>\n",
       "      <td>0.07</td>\n",
       "      <td>0.0</td>\n",
       "      <td>1005</td>\n",
       "      <td>EG</td>\n",
       "      <td>G</td>\n",
       "      <td>65.0</td>\n",
       "      <td>6502.0</td>\n",
       "      <td>O</td>\n",
       "      <td>DELTA</td>\n",
       "      <td>AL000002</td>\n",
       "    </tr>\n",
       "    <tr>\n",
       "      <th>3</th>\n",
       "      <td>4</td>\n",
       "      <td>ALABAMA</td>\n",
       "      <td>BEAVERTON</td>\n",
       "      <td>LEWIS</td>\n",
       "      <td>R</td>\n",
       "      <td>PENNSYLVANIAN-MISSISSIPPIAN DELTAIC AND MARINE...</td>\n",
       "      <td>GCPN-MS-1</td>\n",
       "      <td>NaN</td>\n",
       "      <td>NaN</td>\n",
       "      <td>50317.0</td>\n",
       "      <td>...</td>\n",
       "      <td>0.00</td>\n",
       "      <td>0.0</td>\n",
       "      <td>0</td>\n",
       "      <td>EG</td>\n",
       "      <td>G</td>\n",
       "      <td>65.0</td>\n",
       "      <td>6502.0</td>\n",
       "      <td>O</td>\n",
       "      <td>DELTA</td>\n",
       "      <td>AL000003</td>\n",
       "    </tr>\n",
       "    <tr>\n",
       "      <th>4</th>\n",
       "      <td>5</td>\n",
       "      <td>ALABAMA</td>\n",
       "      <td>BETHEL CHURCH</td>\n",
       "      <td>CARTER</td>\n",
       "      <td>R</td>\n",
       "      <td>PENNSYLVANIAN-MISSISSIPPIAN DELTAIC AND MARINE...</td>\n",
       "      <td>GCPN-MS-1</td>\n",
       "      <td>NaN</td>\n",
       "      <td>NaN</td>\n",
       "      <td>1994.0</td>\n",
       "      <td>...</td>\n",
       "      <td>0.08</td>\n",
       "      <td>0.5</td>\n",
       "      <td>1004</td>\n",
       "      <td>EG</td>\n",
       "      <td>G</td>\n",
       "      <td>65.0</td>\n",
       "      <td>6502.0</td>\n",
       "      <td>O</td>\n",
       "      <td>DELTA</td>\n",
       "      <td>AL000004</td>\n",
       "    </tr>\n",
       "  </tbody>\n",
       "</table>\n",
       "<p>5 rows × 186 columns</p>\n",
       "</div>"
      ],
      "text/plain": [
       "   LINKA    STATE        FLDNAME    RESNAME R_STUDY  \\\n",
       "0      1  ALABAMA       ALOE BAY   NORPHLET       A   \n",
       "1      2  ALABAMA      BEAVERTON  CARTER NE       R   \n",
       "2      3  ALABAMA      BEAVERTON  CARTER SE       R   \n",
       "3      4  ALABAMA      BEAVERTON      LEWIS       R   \n",
       "4      5  ALABAMA  BETHEL CHURCH     CARTER       R   \n",
       "\n",
       "                                            PLAYNAME    PLAYCOD SUBPLAYN  \\\n",
       "0             UPPER JURASSIC AGGRADATIONAL SANDSTONE     UU A.1      NaN   \n",
       "1  PENNSYLVANIAN-MISSISSIPPIAN DELTAIC AND MARINE...  GCPN-MS-1      NaN   \n",
       "2  PENNSYLVANIAN-MISSISSIPPIAN DELTAIC AND MARINE...  GCPN-MS-1      NaN   \n",
       "3  PENNSYLVANIAN-MISSISSIPPIAN DELTAIC AND MARINE...  GCPN-MS-1      NaN   \n",
       "4  PENNSYLVANIAN-MISSISSIPPIAN DELTAIC AND MARINE...  GCPN-MS-1      NaN   \n",
       "\n",
       "  SUBPLAY   DOEFLD    ...     HELIUM OTHER  HEAT  ATLASREG RTYPEGOR  USGSPROV  \\\n",
       "0     NaN  14081.0    ...       0.00   0.0     0        GM        G       NaN   \n",
       "1     NaN  50317.0    ...       0.07   0.0  1005        EG        G      65.0   \n",
       "2     NaN  50317.0    ...       0.07   0.0  1005        EG        G      65.0   \n",
       "3     NaN  50317.0    ...       0.00   0.0     0        EG        G      65.0   \n",
       "4     NaN   1994.0    ...       0.08   0.5  1004        EG        G      65.0   \n",
       "\n",
       "  USGSPLAY S_USGSPL  PLAYDEPO  TYPELOGF  \n",
       "0      NaN      NaN       NaN       NaN  \n",
       "1   6502.0        O     DELTA  AL000001  \n",
       "2   6502.0        O     DELTA  AL000002  \n",
       "3   6502.0        O     DELTA  AL000003  \n",
       "4   6502.0        O     DELTA  AL000004  \n",
       "\n",
       "[5 rows x 186 columns]"
      ]
     },
     "execution_count": 63,
     "metadata": {},
     "output_type": "execute_result"
    }
   ],
   "source": [
    "#Show a preview of the GASIS data\n",
    "data.head()"
   ]
  },
  {
   "cell_type": "code",
   "execution_count": 18,
   "metadata": {
    "collapsed": false
   },
   "outputs": [
    {
     "name": "stdout",
     "output_type": "stream",
     "text": [
      "Number of Rows: 19220\n",
      "Number of Column: 186\n"
     ]
    }
   ],
   "source": [
    "# It's not required but let's see how large this file is\n",
    "row, col = data.shape \n",
    "# data.shape will result in a (19220, 186). \n",
    "# We are just recasting these values to equal row and col respectively\n",
    "print(\"Number of Rows: {}\".format(row))\n",
    "print(\"Number of Column: {}\".format(col))"
   ]
  },
  {
   "cell_type": "markdown",
   "metadata": {},
   "source": [
    "# Creating a Cumulative Distributive Function (CDF)\n",
    "\n",
    "If you do some statistics work, you will know there's a thing called Cumulative Distribution Function. Which basically is counting what's the chance that a random number you pick within the data set is going to be less than the current number. \n",
    "\n",
    "### 1st way of plotting the CDF for Permeability [k]\n",
    "\n",
    "1. Use the ['AVPERM'] from the data set for this example.\n",
    "2. Remove all zeros within the column since it's a fluff value.\n",
    "3. Sort the column from smallest to largest\n",
    "4. Create a another column called **Frequency [%]** that calculates the row number by the total size of the column. For example, the first sorted value will be 1/size, second sorted value will be 2/size, and so on.\n",
    "5. Plot AVGPERM vs. the Frequency.\n",
    "6. Again, Plot AVGPERM vs. the Frequency but using log scale."
   ]
  },
  {
   "cell_type": "code",
   "execution_count": 85,
   "metadata": {
    "collapsed": false
   },
   "outputs": [],
   "source": [
    "# drop all 0s\n",
    "#avg_permeability = avg_permeability[avg_permeability !=0] # drop all values that are 0 because it's fluff\n",
    "#avg_permeability = avg_permeability.sort_values() # sort permeability from smallest to largest\n",
    "#n = np.linspace(1,avg_permeability.size,avg_permeability.size) # create a new thing that goes from 1, 2, ... size of the column\n",
    "#frequency = n/avg_permeability.size # calculate the "
   ]
  },
  {
   "cell_type": "code",
   "execution_count": 17,
   "metadata": {
    "collapsed": false
   },
   "outputs": [
    {
     "name": "stdout",
     "output_type": "stream",
     "text": [
      "        AVPERM   Count  Relative Frequency\n",
      "16837     0.01     1.0            0.000496\n",
      "18901     0.01     2.0            0.000992\n",
      "13577     0.01     3.0            0.001487\n",
      "17110     0.01     4.0            0.001983\n",
      "13925     0.01     5.0            0.002479\n",
      "12922     0.01     6.0            0.002975\n",
      "12894     0.01     7.0            0.003471\n",
      "17513     0.01     8.0            0.003966\n",
      "9998      0.02     9.0            0.004462\n",
      "19151     0.02    10.0            0.004958\n",
      "941       0.02    11.0            0.005454\n",
      "19043     0.02    12.0            0.005949\n",
      "19178     0.02    13.0            0.006445\n",
      "17625     0.02    14.0            0.006941\n",
      "16799     0.03    15.0            0.007437\n",
      "19047     0.03    16.0            0.007933\n",
      "8448      0.04    17.0            0.008428\n",
      "11107     0.04    18.0            0.008924\n",
      "18670     0.05    19.0            0.009420\n",
      "18627     0.05    20.0            0.009916\n",
      "18304     0.05    21.0            0.010412\n",
      "18108     0.05    22.0            0.010907\n",
      "18688     0.05    23.0            0.011403\n",
      "12712     0.05    24.0            0.011899\n",
      "14701     0.05    25.0            0.012395\n",
      "7540      0.06    26.0            0.012890\n",
      "18005     0.06    27.0            0.013386\n",
      "12139     0.07    28.0            0.013882\n",
      "18948     0.08    29.0            0.014378\n",
      "19073     0.09    30.0            0.014874\n",
      "...        ...     ...                 ...\n",
      "17712  2200.00  1988.0            0.985622\n",
      "1380   2200.00  1989.0            0.986118\n",
      "14652  2260.00  1990.0            0.986614\n",
      "23     2289.00  1991.0            0.987110\n",
      "17711  2290.00  1992.0            0.987605\n",
      "17995  2300.00  1993.0            0.988101\n",
      "9978   2300.00  1994.0            0.988597\n",
      "17757  2344.00  1995.0            0.989093\n",
      "17759  2344.00  1996.0            0.989588\n",
      "17761  2344.00  1997.0            0.990084\n",
      "17929  2350.00  1998.0            0.990580\n",
      "16718  2400.00  1999.0            0.991076\n",
      "1085   2400.00  2000.0            0.991572\n",
      "1053   2440.00  2001.0            0.992067\n",
      "9967   2500.00  2002.0            0.992563\n",
      "10009  2500.00  2003.0            0.993059\n",
      "12986  2500.00  2004.0            0.993555\n",
      "3212   2565.00  2005.0            0.994051\n",
      "12908  2575.00  2006.0            0.994546\n",
      "15592  2800.00  2007.0            0.995042\n",
      "3808   2810.00  2008.0            0.995538\n",
      "10008  3080.00  2009.0            0.996034\n",
      "15935  3100.00  2010.0            0.996529\n",
      "17731  3200.00  2011.0            0.997025\n",
      "15962  3333.00  2012.0            0.997521\n",
      "12917  3550.00  2013.0            0.998017\n",
      "17179  4500.00  2014.0            0.998513\n",
      "15931  4861.00  2015.0            0.999008\n",
      "15784  5085.00  2016.0            0.999504\n",
      "15989  8200.00  2017.0            1.000000\n",
      "\n",
      "[2017 rows x 3 columns]\n"
     ]
    }
   ],
   "source": [
    "avg_k = data['AVPERM'] # assign a single dataframe to this variable avg_k. At this point, avg_k will be of type pandas.Series\n",
    "avg_k = avg_k[avg_k != 0] # drop all values that are 0\n",
    "cdf_df = avg_k.to_frame() # convert series to a dataframe, assign it to variable cdf_df\n",
    "cdf_df = cdf_df.sort_values(by='AVPERM') # sort dataset from smallest to largest by column AVPERM\n",
    "total_num_of_values = avg_k.size # find size of column, assign it to variable total_num_of_values\n",
    "# create a new column called Count that goes from 1,2..total_num_of_values\n",
    "cdf_df['Count'] = np.linspace(1,total_num_of_values,total_num_of_values) \n",
    "# create a new column called Frequency that divides Count by total num of val\n",
    "cdf_df['Relative Frequency'] = cdf_df.Count/total_num_of_values \n",
    "print(cdf_df)"
   ]
  },
  {
   "cell_type": "code",
   "execution_count": 20,
   "metadata": {
    "collapsed": false
   },
   "outputs": [
    {
     "data": {
      "image/png": "[encoded data removed]",
      "text/plain": [
       "<matplotlib.figure.Figure at 0x136e61495c0>"
      ]
     },
     "metadata": {},
     "output_type": "display_data"
    }
   ],
   "source": [
    "# plot\n",
    "plt.plot(cdf_df.AVPERM, cdf_df['Relative Frequency'],label=\"CDF\")\n",
    "plt.scatter(cdf_df.AVPERM, cdf_df['Relative Frequency'],label=\"Data\")\n",
    "plt.xlabel(\"Average Permeability [miliDarcy]\")\n",
    "plt.ylabel(\"Relative Frequency [%]\")\n",
    "plt.title(\"Plot\")\n",
    "plt.legend()\n",
    "plt.show()"
   ]
  },
  {
   "cell_type": "code",
   "execution_count": 19,
   "metadata": {
    "collapsed": false
   },
   "outputs": [
    {
     "data": {
      "image/png": "[encoded data removed]",
      "text/plain": [
       "<matplotlib.figure.Figure at 0x136e5caac50>"
      ]
     },
     "metadata": {},
     "output_type": "display_data"
    }
   ],
   "source": [
    "# plot\n",
    "plt.semilogx(cdf_df.AVPERM, cdf_df['Relative Frequency'],label=\"CDF\",color='purple',marker=\".\")\n",
    "plt.xlabel(\"Avg\")\n",
    "plt.ylabel(\"Frequency\")\n",
    "plt.title(\"Plot\")\n",
    "plt.legend()\n",
    "plt.show()"
   ]
  },
  {
   "cell_type": "markdown",
   "metadata": {},
   "source": [
    "### 2nd Way for plotting a Cumulative Distributive Function for Permeability\n",
    "\n",
    "1. Use the ['AVPERM'] from the data set for this example.\n",
    "2. Remove all zeros within the column since it's a fluff value. \n",
    "3. Create a new **Count** column. In this column, find how many other permeability values in the column is less than the current value.\n",
    "4. Create a new **Frequency [%]** column that is Count/total size of whole column.\n"
   ]
  },
  {
   "cell_type": "markdown",
   "metadata": {},
   "source": [
    "## Take Home Problem: \n",
    "+ Try to create the CDF for Porosity ['AVPOR'] using the first method.\n",
    "+ Try to create the CDF for Permeability and Porosity using the second method."
   ]
  },
  {
   "cell_type": "markdown",
   "metadata": {},
   "source": [
    "# Creating a Histogram\n",
    "http://pandas.pydata.org/pandas-docs/stable/generated/pandas.DataFrame.hist.html\n"
   ]
  },
  {
   "cell_type": "code",
   "execution_count": 21,
   "metadata": {
    "collapsed": false
   },
   "outputs": [
    {
     "data": {
      "text/html": [
       "<div>\n",
       "<table border=\"1\" class=\"dataframe\">\n",
       "  <thead>\n",
       "    <tr style=\"text-align: right;\">\n",
       "      <th></th>\n",
       "      <th>AVPOR</th>\n",
       "    </tr>\n",
       "  </thead>\n",
       "  <tbody>\n",
       "    <tr>\n",
       "      <th>0</th>\n",
       "      <td>11.0</td>\n",
       "    </tr>\n",
       "    <tr>\n",
       "      <th>1</th>\n",
       "      <td>15.6</td>\n",
       "    </tr>\n",
       "    <tr>\n",
       "      <th>2</th>\n",
       "      <td>12.0</td>\n",
       "    </tr>\n",
       "    <tr>\n",
       "      <th>3</th>\n",
       "      <td>10.3</td>\n",
       "    </tr>\n",
       "    <tr>\n",
       "      <th>4</th>\n",
       "      <td>10.0</td>\n",
       "    </tr>\n",
       "  </tbody>\n",
       "</table>\n",
       "</div>"
      ],
      "text/plain": [
       "   AVPOR\n",
       "0   11.0\n",
       "1   15.6\n",
       "2   12.0\n",
       "3   10.3\n",
       "4   10.0"
      ]
     },
     "execution_count": 21,
     "metadata": {},
     "output_type": "execute_result"
    }
   ],
   "source": [
    "avg_p = data['AVPOR'] # assign a single dataframe to this variable avg_k. At this point, avg_k will be of type pandas.Series\n",
    "avg_p = avg_p[avg_p != 0]\n",
    "p_df = avg_p.to_frame()\n",
    "p_df.head()"
   ]
  },
  {
   "cell_type": "code",
   "execution_count": 22,
   "metadata": {
    "collapsed": false
   },
   "outputs": [
    {
     "data": {
      "text/plain": [
       "array([[<matplotlib.axes._subplots.AxesSubplot object at 0x00000136E5D4D0B8>]], dtype=object)"
      ]
     },
     "execution_count": 22,
     "metadata": {},
     "output_type": "execute_result"
    },
    {
     "data": {
      "image/png": "[encoded data removed]",
      "text/plain": [
       "<matplotlib.figure.Figure at 0x136e615e240>"
      ]
     },
     "metadata": {},
     "output_type": "display_data"
    }
   ],
   "source": [
    "p_df.hist(column='AVPOR',bins=10)"
   ]
  },
  {
   "cell_type": "code",
   "execution_count": 23,
   "metadata": {
    "collapsed": false
   },
   "outputs": [
    {
     "data": {
      "text/plain": [
       "array([[<matplotlib.axes._subplots.AxesSubplot object at 0x00000136E68B99B0>]], dtype=object)"
      ]
     },
     "execution_count": 23,
     "metadata": {},
     "output_type": "execute_result"
    },
    {
     "data": {
      "image/png": "[encoded data removed]",
      "text/plain": [
       "<matplotlib.figure.Figure at 0x136e6145630>"
      ]
     },
     "metadata": {},
     "output_type": "display_data"
    }
   ],
   "source": [
    "p_df.hist(column='AVPOR',bins=100)"
   ]
  },
  {
   "cell_type": "code",
   "execution_count": 24,
   "metadata": {
    "collapsed": false
   },
   "outputs": [
    {
     "data": {
      "image/png": "[encoded data removed]",
      "text/plain": [
       "<matplotlib.figure.Figure at 0x136e6b5b390>"
      ]
     },
     "metadata": {},
     "output_type": "display_data"
    }
   ],
   "source": [
    "# let's try to see what would happen if we change the x-axis to log scale\n",
    "# There's really no reason why we are doing this\n",
    "fig, ax = plt.subplots()\n",
    "p_df.hist(ax=ax,column='AVPOR',bins=100)\n",
    "ax.set_yscale('log')"
   ]
  },
  {
   "cell_type": "code",
   "execution_count": 25,
   "metadata": {
    "collapsed": false
   },
   "outputs": [
    {
     "data": {
      "image/png": "[encoded data removed]",
      "text/plain": [
       "<matplotlib.figure.Figure at 0x136e688f160>"
      ]
     },
     "metadata": {},
     "output_type": "display_data"
    }
   ],
   "source": [
    "#let's try to see what would happen if we change the y-axis to log scale\n",
    "fig, ax = plt.subplots()\n",
    "p_df.hist(ax=ax,column='AVPOR',bins=100)\n",
    "ax.set_xscale('log')"
   ]
  },
  {
   "cell_type": "markdown",
   "metadata": {},
   "source": [
    "## Take Home Problem: \n",
    "\n",
    "Instead of using the .hist() function, try to manually re-create it on your own.\n",
    "+ Define you bins (from 0-10, 10-20, etc.)\n",
    "+ Count the number of values that fall within those bins\n",
    "+ Plot using bar charts"
   ]
  },
  {
   "cell_type": "markdown",
   "metadata": {},
   "source": [
    "# Creating a Probability Density Function (PDF)\n",
    "\n",
    "A **probability density function (PDF)**, or density of a continuous random variable, is a function that describes the relative likelihood for this random variable to take on a given value.\n",
    "\n",
    "You will probably see this quite a bit. The plot belows show the box plot and the probability density function of a normal distribution, or a Gaussian distribution.\n",
    "\n",
    "![](https://upload.wikimedia.org/wikipedia/commons/1/1a/Boxplot_vs_PDF.svg)\n",
    "\n",
    "As you can see, the big difference between the histogram we saw earlier and this plot is that the histogram is broken up by chunks, while this plot is more continuous. \n",
    "\n",
    "The histogram is represented by bar charts while PDF is traditionally represented with a smooth line.\n",
    "\n",
    "Oh! And the area under a PDF curve is equal to 1."
   ]
  },
  {
   "cell_type": "code",
   "execution_count": 30,
   "metadata": {
    "collapsed": false
   },
   "outputs": [
    {
     "data": {
      "text/plain": [
       "<matplotlib.axes._subplots.AxesSubplot at 0x136e5dea470>"
      ]
     },
     "execution_count": 30,
     "metadata": {},
     "output_type": "execute_result"
    },
    {
     "data": {
      "image/png": "[encoded data removed]",
      "text/plain": [
       "<matplotlib.figure.Figure at 0x136e7482668>"
      ]
     },
     "metadata": {},
     "output_type": "display_data"
    }
   ],
   "source": [
    "p_df.plot.density()"
   ]
  },
  {
   "cell_type": "markdown",
   "metadata": {},
   "source": [
    "## Take Home Problem: \n",
    "\n",
    "Instead of using the plot.density() function, try to manually re-create it on your own.\n",
    "+ Define you bins (from 0-10, 10-20, etc.)\n",
    "+ Create a new column called **Count** that counts the number of values that fall within those bins\n",
    "+ Calculate a new column called **Relative Frequency** that divides the count by the total size of the data set.\n",
    "+ Calculate a new column called **Density** that divides the Relative Frequency by distance between the bins\n",
    "+ Plot using scatter/smooth lines."
   ]
  }
 ],
 "metadata": {
  "anaconda-cloud": {},
  "kernelspec": {
   "display_name": "Python [Root]",
   "language": "python",
   "name": "Python [Root]"
  },
  "language_info": {
   "codemirror_mode": {
    "name": "ipython",
    "version": 3
   },
   "file_extension": ".py",
   "mimetype": "text/x-python",
   "name": "python",
   "nbconvert_exporter": "python",
   "pygments_lexer": "ipython3",
   "version": "3.5.2"
  }
 },
 "nbformat": 4,
 "nbformat_minor": 0
}
